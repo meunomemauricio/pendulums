{
 "cells": [
  {
   "attachments": {},
   "cell_type": "markdown",
   "id": "2b0ce11d",
   "metadata": {},
   "source": [
    "# Frictionless Pendulum on a Cart"
   ]
  },
  {
   "attachments": {},
   "cell_type": "markdown",
   "id": "d47b6e57",
   "metadata": {},
   "source": [
    "## Imports"
   ]
  },
  {
   "cell_type": "code",
   "execution_count": 25,
   "id": "b0a0ead1",
   "metadata": {},
   "outputs": [],
   "source": [
    "import numpy as np\n",
    "import sympy as sp"
   ]
  },
  {
   "attachments": {},
   "cell_type": "markdown",
   "id": "d5a42e66",
   "metadata": {},
   "source": [
    "## Symbols"
   ]
  },
  {
   "cell_type": "code",
   "execution_count": 26,
   "id": "34650d3c",
   "metadata": {},
   "outputs": [],
   "source": [
    "t, g = sp.symbols(\"t g\")\n",
    "l, m, M = sp.symbols(\"l m M\")\n",
    "\n",
    "theta = sp.Function(\"theta\")\n",
    "x = sp.Function(\"x\")"
   ]
  },
  {
   "attachments": {},
   "cell_type": "markdown",
   "id": "fdf03aca",
   "metadata": {},
   "source": [
    "# Phisical Modeling"
   ]
  },
  {
   "attachments": {},
   "cell_type": "markdown",
   "id": "d3739b45",
   "metadata": {},
   "source": [
    "## Kinematics"
   ]
  },
  {
   "cell_type": "code",
   "execution_count": 27,
   "id": "9121249d",
   "metadata": {},
   "outputs": [
    {
     "data": {
      "text/latex": [
       "$\\displaystyle l \\sin{\\left(\\theta{\\left(t \\right)} \\right)} + x{\\left(t \\right)}$"
      ],
      "text/plain": [
       "l*sin(theta(t)) + x(t)"
      ]
     },
     "execution_count": 27,
     "metadata": {},
     "output_type": "execute_result"
    }
   ],
   "source": [
    "x_p = x(t) + l * sp.sin(theta(t))\n",
    "x_p"
   ]
  },
  {
   "cell_type": "code",
   "execution_count": 28,
   "id": "e5e3ed3c",
   "metadata": {},
   "outputs": [
    {
     "data": {
      "text/latex": [
       "$\\displaystyle - l \\cos{\\left(\\theta{\\left(t \\right)} \\right)}$"
      ],
      "text/plain": [
       "-l*cos(theta(t))"
      ]
     },
     "execution_count": 28,
     "metadata": {},
     "output_type": "execute_result"
    }
   ],
   "source": [
    "y_p = -l * sp.cos(theta(t))\n",
    "y_p"
   ]
  },
  {
   "cell_type": "code",
   "execution_count": 29,
   "id": "9403157f",
   "metadata": {},
   "outputs": [
    {
     "data": {
      "text/latex": [
       "$\\displaystyle l \\cos{\\left(\\theta{\\left(t \\right)} \\right)} \\frac{d}{d t} \\theta{\\left(t \\right)} + \\frac{d}{d t} x{\\left(t \\right)}$"
      ],
      "text/plain": [
       "l*cos(theta(t))*Derivative(theta(t), t) + Derivative(x(t), t)"
      ]
     },
     "execution_count": 29,
     "metadata": {},
     "output_type": "execute_result"
    }
   ],
   "source": [
    "x_p_dot = x_p.diff(t)\n",
    "x_p_dot"
   ]
  },
  {
   "cell_type": "code",
   "execution_count": 30,
   "id": "24f1d333",
   "metadata": {},
   "outputs": [
    {
     "data": {
      "text/latex": [
       "$\\displaystyle l \\sin{\\left(\\theta{\\left(t \\right)} \\right)} \\frac{d}{d t} \\theta{\\left(t \\right)}$"
      ],
      "text/plain": [
       "l*sin(theta(t))*Derivative(theta(t), t)"
      ]
     },
     "execution_count": 30,
     "metadata": {},
     "output_type": "execute_result"
    }
   ],
   "source": [
    "y_p_dot = y_p.diff(t)\n",
    "y_p_dot"
   ]
  },
  {
   "attachments": {},
   "cell_type": "markdown",
   "id": "8539b4b5",
   "metadata": {},
   "source": [
    "## Potential Energy\n",
    "\n",
    "There's only the gravitational potential energy, which acts in the `y` direction.\n",
    "\n",
    "$$\n",
    "V = m \\cdot g \\cdot y = - m \\cdot g \\cdot l \\cdot cos(\\theta)\n",
    "$$"
   ]
  },
  {
   "cell_type": "code",
   "execution_count": 31,
   "id": "1c4cee99",
   "metadata": {},
   "outputs": [
    {
     "data": {
      "text/latex": [
       "$\\displaystyle - g l m \\cos{\\left(\\theta{\\left(t \\right)} \\right)}$"
      ],
      "text/plain": [
       "-g*l*m*cos(theta(t))"
      ]
     },
     "execution_count": 31,
     "metadata": {},
     "output_type": "execute_result"
    }
   ],
   "source": [
    "V = - m * g * l * sp.cos(theta(t))\n",
    "V"
   ]
  },
  {
   "attachments": {},
   "cell_type": "markdown",
   "id": "4c80d503",
   "metadata": {},
   "source": [
    "## Kinectic Energy\n",
    "\n",
    "There are two Kinectic energies, one related to the Cart and one on the Pendulum mass. The total energy is the sum of both.\n",
    "\n",
    "Since the pendulum moves in two coordinates, it can be modeled as two separate kinectic energies.\n",
    "\n",
    "$$\n",
    "T = \\frac{1}{2} \\cdot M \\cdot \\dot{x}^2 + \\frac{1}{2} \\cdot m \\cdot \\dot{x}_p^2 + \\frac{1}{2} \\cdot m \\cdot \\dot{y}_p^2\n",
    "$$\n",
    "\n",
    "$$\n",
    "T = \\frac{1}{2} \\cdot M \\cdot \\dot{x}^2 + \\frac{1}{2} \\cdot m \\cdot (\\dot{x}_p^2 + \\dot{y}_p^2)\n",
    "$$"
   ]
  },
  {
   "cell_type": "code",
   "execution_count": 32,
   "id": "f7028a3b",
   "metadata": {},
   "outputs": [
    {
     "data": {
      "text/latex": [
       "$\\displaystyle \\frac{M \\left(\\frac{d}{d t} x{\\left(t \\right)}\\right)^{2}}{2} + \\frac{m \\left(l^{2} \\left(\\frac{d}{d t} \\theta{\\left(t \\right)}\\right)^{2} + 2 l \\cos{\\left(\\theta{\\left(t \\right)} \\right)} \\frac{d}{d t} \\theta{\\left(t \\right)} \\frac{d}{d t} x{\\left(t \\right)} + \\left(\\frac{d}{d t} x{\\left(t \\right)}\\right)^{2}\\right)}{2}$"
      ],
      "text/plain": [
       "M*Derivative(x(t), t)**2/2 + m*(l**2*Derivative(theta(t), t)**2 + 2*l*cos(theta(t))*Derivative(theta(t), t)*Derivative(x(t), t) + Derivative(x(t), t)**2)/2"
      ]
     },
     "execution_count": 32,
     "metadata": {},
     "output_type": "execute_result"
    }
   ],
   "source": [
    "T = sp.Rational(1, 2) * M * (x(t).diff(t) ** 2) + sp.Rational(1, 2) * m * (x_p_dot ** 2 + y_p_dot ** 2)\n",
    "T.simplify()"
   ]
  },
  {
   "attachments": {},
   "cell_type": "markdown",
   "id": "68b3c69f",
   "metadata": {},
   "source": [
    "## Lagrangian and Equations of Motion"
   ]
  },
  {
   "cell_type": "code",
   "execution_count": 33,
   "id": "33ee1024",
   "metadata": {},
   "outputs": [
    {
     "data": {
      "text/latex": [
       "$\\displaystyle \\frac{M \\left(\\frac{d}{d t} x{\\left(t \\right)}\\right)^{2}}{2} + g l m \\cos{\\left(\\theta{\\left(t \\right)} \\right)} + \\frac{m \\left(l^{2} \\sin^{2}{\\left(\\theta{\\left(t \\right)} \\right)} \\left(\\frac{d}{d t} \\theta{\\left(t \\right)}\\right)^{2} + \\left(l \\cos{\\left(\\theta{\\left(t \\right)} \\right)} \\frac{d}{d t} \\theta{\\left(t \\right)} + \\frac{d}{d t} x{\\left(t \\right)}\\right)^{2}\\right)}{2}$"
      ],
      "text/plain": [
       "M*Derivative(x(t), t)**2/2 + g*l*m*cos(theta(t)) + m*(l**2*sin(theta(t))**2*Derivative(theta(t), t)**2 + (l*cos(theta(t))*Derivative(theta(t), t) + Derivative(x(t), t))**2)/2"
      ]
     },
     "execution_count": 33,
     "metadata": {},
     "output_type": "execute_result"
    }
   ],
   "source": [
    "L = T - V\n",
    "L"
   ]
  },
  {
   "cell_type": "code",
   "execution_count": 34,
   "id": "415f1164",
   "metadata": {},
   "outputs": [],
   "source": [
    "x_motion_eq, theta_motion_eq = sp.euler_equations(L, [x(t), theta(t)], t)"
   ]
  },
  {
   "cell_type": "code",
   "execution_count": 35,
   "id": "6195c041",
   "metadata": {},
   "outputs": [
    {
     "data": {
      "text/latex": [
       "$\\displaystyle - M \\frac{d^{2}}{d t^{2}} x{\\left(t \\right)} - m \\left(- l \\sin{\\left(\\theta{\\left(t \\right)} \\right)} \\left(\\frac{d}{d t} \\theta{\\left(t \\right)}\\right)^{2} + l \\cos{\\left(\\theta{\\left(t \\right)} \\right)} \\frac{d^{2}}{d t^{2}} \\theta{\\left(t \\right)} + \\frac{d^{2}}{d t^{2}} x{\\left(t \\right)}\\right) = 0$"
      ],
      "text/plain": [
       "Eq(-M*Derivative(x(t), (t, 2)) - m*(-l*sin(theta(t))*Derivative(theta(t), t)**2 + l*cos(theta(t))*Derivative(theta(t), (t, 2)) + Derivative(x(t), (t, 2))), 0)"
      ]
     },
     "execution_count": 35,
     "metadata": {},
     "output_type": "execute_result"
    }
   ],
   "source": [
    "x_motion_eq"
   ]
  },
  {
   "cell_type": "code",
   "execution_count": 36,
   "id": "e92d938d",
   "metadata": {},
   "outputs": [
    {
     "data": {
      "text/latex": [
       "$\\displaystyle l m \\left(g \\sin{\\left(\\theta{\\left(t \\right)} \\right)} + l \\frac{d^{2}}{d t^{2}} \\theta{\\left(t \\right)} + \\cos{\\left(\\theta{\\left(t \\right)} \\right)} \\frac{d^{2}}{d t^{2}} x{\\left(t \\right)}\\right) = 0$"
      ],
      "text/plain": [
       "Eq(l*m*(g*sin(theta(t)) + l*Derivative(theta(t), (t, 2)) + cos(theta(t))*Derivative(x(t), (t, 2))), 0)"
      ]
     },
     "execution_count": 36,
     "metadata": {},
     "output_type": "execute_result"
    }
   ],
   "source": [
    "theta_motion_eq.simplify()"
   ]
  },
  {
   "attachments": {},
   "cell_type": "markdown",
   "id": "88f24384",
   "metadata": {},
   "source": [
    "# Coupled 1st Order ODEs model\n",
    "\n",
    "Both equations of motion are coupled to each other's second order derivative in time, so it's necessary to substitute them to each other in order to reduce them to a system of 1st order ODEs."
   ]
  },
  {
   "cell_type": "code",
   "execution_count": 37,
   "id": "9b937fdb",
   "metadata": {},
   "outputs": [],
   "source": [
    "sols = sp.solve([x_motion_eq, theta_motion_eq], [x(t).diff(t, 2), theta(t).diff(t, 2)])"
   ]
  },
  {
   "cell_type": "code",
   "execution_count": 38,
   "id": "f92053b1",
   "metadata": {},
   "outputs": [
    {
     "data": {
      "text/latex": [
       "$\\displaystyle \\frac{m \\left(g \\cos{\\left(\\theta{\\left(t \\right)} \\right)} + l \\left(\\frac{d}{d t} \\theta{\\left(t \\right)}\\right)^{2}\\right) \\sin{\\left(\\theta{\\left(t \\right)} \\right)}}{M + m \\sin^{2}{\\left(\\theta{\\left(t \\right)} \\right)}}$"
      ],
      "text/plain": [
       "m*(g*cos(theta(t)) + l*Derivative(theta(t), t)**2)*sin(theta(t))/(M + m*sin(theta(t))**2)"
      ]
     },
     "execution_count": 38,
     "metadata": {},
     "output_type": "execute_result"
    }
   ],
   "source": [
    "sols[x(t).diff(t, 2)].simplify()"
   ]
  },
  {
   "cell_type": "code",
   "execution_count": 39,
   "id": "c91b48ec",
   "metadata": {},
   "outputs": [
    {
     "data": {
      "text/latex": [
       "$\\displaystyle - \\frac{\\left(M g + g m + l m \\cos{\\left(\\theta{\\left(t \\right)} \\right)} \\left(\\frac{d}{d t} \\theta{\\left(t \\right)}\\right)^{2}\\right) \\sin{\\left(\\theta{\\left(t \\right)} \\right)}}{l \\left(M + m \\sin^{2}{\\left(\\theta{\\left(t \\right)} \\right)}\\right)}$"
      ],
      "text/plain": [
       "-(M*g + g*m + l*m*cos(theta(t))*Derivative(theta(t), t)**2)*sin(theta(t))/(l*(M + m*sin(theta(t))**2))"
      ]
     },
     "execution_count": 39,
     "metadata": {},
     "output_type": "execute_result"
    }
   ],
   "source": [
    "sols[theta(t).diff(t, 2)].simplify()"
   ]
  },
  {
   "cell_type": "code",
   "execution_count": null,
   "id": "89ef3036",
   "metadata": {},
   "outputs": [],
   "source": []
  }
 ],
 "metadata": {
  "kernelspec": {
   "display_name": "Python 3 (ipykernel)",
   "language": "python",
   "name": "python3"
  },
  "language_info": {
   "codemirror_mode": {
    "name": "ipython",
    "version": 3
   },
   "file_extension": ".py",
   "mimetype": "text/x-python",
   "name": "python",
   "nbconvert_exporter": "python",
   "pygments_lexer": "ipython3",
   "version": "3.10.11"
  }
 },
 "nbformat": 4,
 "nbformat_minor": 5
}
