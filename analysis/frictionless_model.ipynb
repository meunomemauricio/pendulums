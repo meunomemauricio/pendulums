{
 "cells": [
  {
   "attachments": {},
   "cell_type": "markdown",
   "id": "2b0ce11d",
   "metadata": {},
   "source": [
    "# Frictionless Pendulum on a Cart"
   ]
  },
  {
   "attachments": {},
   "cell_type": "markdown",
   "id": "d47b6e57",
   "metadata": {},
   "source": [
    "## Imports"
   ]
  },
  {
   "cell_type": "code",
   "execution_count": 27,
   "id": "b0a0ead1",
   "metadata": {},
   "outputs": [],
   "source": [
    "import numpy as np\n",
    "import sympy as sp"
   ]
  },
  {
   "attachments": {},
   "cell_type": "markdown",
   "id": "d5a42e66",
   "metadata": {},
   "source": [
    "## Symbols"
   ]
  },
  {
   "cell_type": "code",
   "execution_count": 28,
   "id": "34650d3c",
   "metadata": {},
   "outputs": [],
   "source": [
    "t, g = sp.symbols(\"t g\")\n",
    "l, m, M = sp.symbols(\"l m M\")\n",
    "\n",
    "theta = sp.Function(\"theta\")\n",
    "x = sp.Function(\"x\")"
   ]
  },
  {
   "attachments": {},
   "cell_type": "markdown",
   "id": "fdf03aca",
   "metadata": {},
   "source": [
    "# Phisical Modeling"
   ]
  },
  {
   "attachments": {},
   "cell_type": "markdown",
   "id": "d3739b45",
   "metadata": {},
   "source": [
    "## Kinematics"
   ]
  },
  {
   "cell_type": "code",
   "execution_count": 29,
   "id": "9121249d",
   "metadata": {},
   "outputs": [
    {
     "data": {
      "text/latex": [
       "$\\displaystyle l \\sin{\\left(\\theta{\\left(t \\right)} \\right)} + x{\\left(t \\right)}$"
      ],
      "text/plain": [
       "l*sin(theta(t)) + x(t)"
      ]
     },
     "execution_count": 29,
     "metadata": {},
     "output_type": "execute_result"
    }
   ],
   "source": [
    "x_p = x(t) + l * sp.sin(theta(t))\n",
    "x_p"
   ]
  },
  {
   "cell_type": "code",
   "execution_count": 30,
   "id": "e5e3ed3c",
   "metadata": {},
   "outputs": [
    {
     "data": {
      "text/latex": [
       "$\\displaystyle - l \\cos{\\left(\\theta{\\left(t \\right)} \\right)}$"
      ],
      "text/plain": [
       "-l*cos(theta(t))"
      ]
     },
     "execution_count": 30,
     "metadata": {},
     "output_type": "execute_result"
    }
   ],
   "source": [
    "y_p = -l * sp.cos(theta(t))\n",
    "y_p"
   ]
  },
  {
   "cell_type": "code",
   "execution_count": 31,
   "id": "9403157f",
   "metadata": {},
   "outputs": [
    {
     "data": {
      "text/latex": [
       "$\\displaystyle l \\cos{\\left(\\theta{\\left(t \\right)} \\right)} \\frac{d}{d t} \\theta{\\left(t \\right)} + \\frac{d}{d t} x{\\left(t \\right)}$"
      ],
      "text/plain": [
       "l*cos(theta(t))*Derivative(theta(t), t) + Derivative(x(t), t)"
      ]
     },
     "execution_count": 31,
     "metadata": {},
     "output_type": "execute_result"
    }
   ],
   "source": [
    "x_p_dot = x_p.diff(t)\n",
    "x_p_dot"
   ]
  },
  {
   "cell_type": "code",
   "execution_count": 32,
   "id": "24f1d333",
   "metadata": {},
   "outputs": [
    {
     "data": {
      "text/latex": [
       "$\\displaystyle l \\sin{\\left(\\theta{\\left(t \\right)} \\right)} \\frac{d}{d t} \\theta{\\left(t \\right)}$"
      ],
      "text/plain": [
       "l*sin(theta(t))*Derivative(theta(t), t)"
      ]
     },
     "execution_count": 32,
     "metadata": {},
     "output_type": "execute_result"
    }
   ],
   "source": [
    "y_p_dot = y_p.diff(t)\n",
    "y_p_dot"
   ]
  },
  {
   "attachments": {},
   "cell_type": "markdown",
   "id": "8539b4b5",
   "metadata": {},
   "source": [
    "## Potential Energy\n",
    "\n",
    "There's only the gravitational potential energy, which acts in the `y` direction.\n",
    "\n",
    "$$\n",
    "V = m \\cdot g \\cdot y = - m \\cdot g \\cdot l \\cdot cos(\\theta)\n",
    "$$"
   ]
  },
  {
   "cell_type": "code",
   "execution_count": 33,
   "id": "1c4cee99",
   "metadata": {},
   "outputs": [
    {
     "data": {
      "text/latex": [
       "$\\displaystyle - g l m \\cos{\\left(\\theta{\\left(t \\right)} \\right)}$"
      ],
      "text/plain": [
       "-g*l*m*cos(theta(t))"
      ]
     },
     "execution_count": 33,
     "metadata": {},
     "output_type": "execute_result"
    }
   ],
   "source": [
    "V = - m * g * l * sp.cos(theta(t))\n",
    "V"
   ]
  },
  {
   "attachments": {},
   "cell_type": "markdown",
   "id": "4c80d503",
   "metadata": {},
   "source": [
    "## Kinectic Energy\n",
    "\n",
    "There are two Kinectic energies, one related to the Cart and one on the Pendulum mass. The total energy is the sum of both.\n",
    "\n",
    "Since the pendulum moves in two coordinates, it can be modeled as two separate kinectic energies.\n",
    "\n",
    "$$\n",
    "T = \\frac{1}{2} \\cdot M \\cdot \\dot{x}^2 + \\frac{1}{2} \\cdot m \\cdot \\dot{x}_p^2 + \\frac{1}{2} \\cdot m \\cdot \\dot{y}_p^2\n",
    "$$\n",
    "\n",
    "$$\n",
    "T = \\frac{1}{2} \\cdot M \\cdot \\dot{x}^2 + \\frac{1}{2} \\cdot m \\cdot (\\dot{x}_p^2 + \\dot{y}_p^2)\n",
    "$$"
   ]
  },
  {
   "cell_type": "code",
   "execution_count": 34,
   "id": "f7028a3b",
   "metadata": {},
   "outputs": [
    {
     "data": {
      "text/latex": [
       "$\\displaystyle \\frac{M \\left(\\frac{d}{d t} x{\\left(t \\right)}\\right)^{2}}{2} + \\frac{m \\left(l^{2} \\left(\\frac{d}{d t} \\theta{\\left(t \\right)}\\right)^{2} + 2 l \\cos{\\left(\\theta{\\left(t \\right)} \\right)} \\frac{d}{d t} \\theta{\\left(t \\right)} \\frac{d}{d t} x{\\left(t \\right)} + \\left(\\frac{d}{d t} x{\\left(t \\right)}\\right)^{2}\\right)}{2}$"
      ],
      "text/plain": [
       "M*Derivative(x(t), t)**2/2 + m*(l**2*Derivative(theta(t), t)**2 + 2*l*cos(theta(t))*Derivative(theta(t), t)*Derivative(x(t), t) + Derivative(x(t), t)**2)/2"
      ]
     },
     "execution_count": 34,
     "metadata": {},
     "output_type": "execute_result"
    }
   ],
   "source": [
    "T = sp.Rational(1, 2) * M * (x(t).diff(t) ** 2) + sp.Rational(1, 2) * m * (x_p_dot ** 2 + y_p_dot ** 2)\n",
    "T.simplify()"
   ]
  },
  {
   "attachments": {},
   "cell_type": "markdown",
   "id": "68b3c69f",
   "metadata": {},
   "source": [
    "## Lagrangian and Equations of Motion"
   ]
  },
  {
   "cell_type": "code",
   "execution_count": 35,
   "id": "33ee1024",
   "metadata": {},
   "outputs": [
    {
     "data": {
      "text/latex": [
       "$\\displaystyle \\frac{M \\left(\\frac{d}{d t} x{\\left(t \\right)}\\right)^{2}}{2} + g l m \\cos{\\left(\\theta{\\left(t \\right)} \\right)} + \\frac{m \\left(l^{2} \\sin^{2}{\\left(\\theta{\\left(t \\right)} \\right)} \\left(\\frac{d}{d t} \\theta{\\left(t \\right)}\\right)^{2} + \\left(l \\cos{\\left(\\theta{\\left(t \\right)} \\right)} \\frac{d}{d t} \\theta{\\left(t \\right)} + \\frac{d}{d t} x{\\left(t \\right)}\\right)^{2}\\right)}{2}$"
      ],
      "text/plain": [
       "M*Derivative(x(t), t)**2/2 + g*l*m*cos(theta(t)) + m*(l**2*sin(theta(t))**2*Derivative(theta(t), t)**2 + (l*cos(theta(t))*Derivative(theta(t), t) + Derivative(x(t), t))**2)/2"
      ]
     },
     "execution_count": 35,
     "metadata": {},
     "output_type": "execute_result"
    }
   ],
   "source": [
    "L = T - V\n",
    "L"
   ]
  },
  {
   "cell_type": "code",
   "execution_count": 36,
   "id": "415f1164",
   "metadata": {},
   "outputs": [],
   "source": [
    "x_motion_eq, theta_motion_eq = sp.euler_equations(L, [x(t), theta(t)], t)"
   ]
  },
  {
   "cell_type": "code",
   "execution_count": 37,
   "id": "6195c041",
   "metadata": {},
   "outputs": [
    {
     "data": {
      "text/latex": [
       "$\\displaystyle - M \\frac{d^{2}}{d t^{2}} x{\\left(t \\right)} - m \\left(- l \\sin{\\left(\\theta{\\left(t \\right)} \\right)} \\left(\\frac{d}{d t} \\theta{\\left(t \\right)}\\right)^{2} + l \\cos{\\left(\\theta{\\left(t \\right)} \\right)} \\frac{d^{2}}{d t^{2}} \\theta{\\left(t \\right)} + \\frac{d^{2}}{d t^{2}} x{\\left(t \\right)}\\right) = 0$"
      ],
      "text/plain": [
       "Eq(-M*Derivative(x(t), (t, 2)) - m*(-l*sin(theta(t))*Derivative(theta(t), t)**2 + l*cos(theta(t))*Derivative(theta(t), (t, 2)) + Derivative(x(t), (t, 2))), 0)"
      ]
     },
     "execution_count": 37,
     "metadata": {},
     "output_type": "execute_result"
    }
   ],
   "source": [
    "x_motion_eq"
   ]
  },
  {
   "cell_type": "code",
   "execution_count": 38,
   "id": "e92d938d",
   "metadata": {},
   "outputs": [
    {
     "data": {
      "text/latex": [
       "$\\displaystyle l m \\left(g \\sin{\\left(\\theta{\\left(t \\right)} \\right)} + l \\frac{d^{2}}{d t^{2}} \\theta{\\left(t \\right)} + \\cos{\\left(\\theta{\\left(t \\right)} \\right)} \\frac{d^{2}}{d t^{2}} x{\\left(t \\right)}\\right) = 0$"
      ],
      "text/plain": [
       "Eq(l*m*(g*sin(theta(t)) + l*Derivative(theta(t), (t, 2)) + cos(theta(t))*Derivative(x(t), (t, 2))), 0)"
      ]
     },
     "execution_count": 38,
     "metadata": {},
     "output_type": "execute_result"
    }
   ],
   "source": [
    "theta_motion_eq.simplify()"
   ]
  },
  {
   "attachments": {},
   "cell_type": "markdown",
   "id": "88f24384",
   "metadata": {},
   "source": [
    "# Coupled Equations\n",
    "\n",
    "In the previous section, both Euler-Lagrange equations of motion are coupled to each other's second order derivative:\n",
    "\n",
    "$$\n",
    "\\ddot{x} = f(t, x, \\dot{x}, \\ddot{x}, \\theta, \\dot{\\theta}, \\ddot{\\theta}) \\\\\n",
    "\\ddot{\\theta} = f(t, x, \\dot{x}, \\ddot{x}, \\theta, \\dot{\\theta}, \\ddot{\\theta})\n",
    "$$\n",
    "\n",
    "Before linearizing them, It's necessary to solve the system so that it's possible to write $\\ddot{x}$ and $\\ddot{\\theta}$ as only functions of lower order derivatives:\n",
    "\n",
    "$$\n",
    "\\ddot{x} = f(t, x, \\dot{x}, \\theta, \\dot{\\theta}) \\\\\n",
    "\\ddot{\\theta} = f(t, x, \\dot{x}, \\theta, \\dot{\\theta})\n",
    "$$\n"
   ]
  },
  {
   "cell_type": "code",
   "execution_count": 39,
   "id": "9b937fdb",
   "metadata": {},
   "outputs": [],
   "source": [
    "sols = sp.solve([x_motion_eq, theta_motion_eq], [x(t).diff(t, 2), theta(t).diff(t, 2)])"
   ]
  },
  {
   "cell_type": "code",
   "execution_count": 40,
   "id": "f92053b1",
   "metadata": {},
   "outputs": [
    {
     "data": {
      "text/latex": [
       "$\\displaystyle \\frac{m \\left(g \\cos{\\left(\\theta{\\left(t \\right)} \\right)} + l \\left(\\frac{d}{d t} \\theta{\\left(t \\right)}\\right)^{2}\\right) \\sin{\\left(\\theta{\\left(t \\right)} \\right)}}{M + m \\sin^{2}{\\left(\\theta{\\left(t \\right)} \\right)}}$"
      ],
      "text/plain": [
       "m*(g*cos(theta(t)) + l*Derivative(theta(t), t)**2)*sin(theta(t))/(M + m*sin(theta(t))**2)"
      ]
     },
     "execution_count": 40,
     "metadata": {},
     "output_type": "execute_result"
    }
   ],
   "source": [
    "x_ddot = sols[x(t).diff(t, 2)].simplify()\n",
    "x_ddot"
   ]
  },
  {
   "cell_type": "code",
   "execution_count": 41,
   "id": "c91b48ec",
   "metadata": {},
   "outputs": [
    {
     "data": {
      "text/latex": [
       "$\\displaystyle - \\frac{\\left(M g + g m + l m \\cos{\\left(\\theta{\\left(t \\right)} \\right)} \\left(\\frac{d}{d t} \\theta{\\left(t \\right)}\\right)^{2}\\right) \\sin{\\left(\\theta{\\left(t \\right)} \\right)}}{l \\left(M + m \\sin^{2}{\\left(\\theta{\\left(t \\right)} \\right)}\\right)}$"
      ],
      "text/plain": [
       "-(M*g + g*m + l*m*cos(theta(t))*Derivative(theta(t), t)**2)*sin(theta(t))/(l*(M + m*sin(theta(t))**2))"
      ]
     },
     "execution_count": 41,
     "metadata": {},
     "output_type": "execute_result"
    }
   ],
   "source": [
    "theta_ddot = sols[theta(t).diff(t, 2)].simplify()\n",
    "theta_ddot"
   ]
  },
  {
   "attachments": {},
   "cell_type": "markdown",
   "id": "89ef3036",
   "metadata": {},
   "source": [
    "# Linearization\n",
    "\n",
    "From the previous section, it's possible to write the system of equations in this format:\n",
    "\n",
    "$$\n",
    "\\frac{d}{dt} \\begin{bmatrix}\n",
    "  x \\\\\n",
    "  \\dot{x} \\\\\n",
    "  \\theta \\\\\n",
    "  \\dot{\\theta}\n",
    "\\end{bmatrix}\n",
    "= \\begin{bmatrix}\n",
    "  f_1(t, x, \\dot{x}, \\theta, \\dot{\\theta}) \\\\\n",
    "  f_2(t, x, \\dot{x}, \\theta, \\dot{\\theta}) \\\\\n",
    "  f_3(t, x, \\dot{x}, \\theta, \\dot{\\theta}) \\\\\n",
    "  f_4(t, x, \\dot{x}, \\theta, \\dot{\\theta})\n",
    "\\end{bmatrix}\n",
    "= \\begin{bmatrix}\n",
    "  \\dot{x} \\\\\n",
    "  \\ddot{x} \\\\ \n",
    "  \\dot{\\theta} \\\\\n",
    "  \\ddot{\\theta}\n",
    "\\end{bmatrix}\n",
    "$$"
   ]
  },
  {
   "attachments": {},
   "cell_type": "markdown",
   "id": "86eabeba",
   "metadata": {},
   "source": [
    "## Jacobian Matrix\n",
    "\n",
    "The first step to linearize this sytems is to compute the Jacobian matrix:\n",
    "\n",
    "$$\n",
    "\\frac{D_f}{D_x} = \\begin{bmatrix}\n",
    "    \\frac{\\partial f_1}{\\partial x} & \\frac{\\partial f_1}{\\partial \\dot{x}} & \\frac{\\partial f_1}{\\partial \\theta} & \\frac{\\partial f_1}{\\partial \\dot{\\theta}} \\\\[0.5em]\n",
    "    \\frac{\\partial f_2}{\\partial x} & \\frac{\\partial f_2}{\\partial \\dot{x}} & \\frac{\\partial f_2}{\\partial \\theta} & \\frac{\\partial f_2}{\\partial \\dot{\\theta}} \\\\[0.5em]\n",
    "    \\frac{\\partial f_3}{\\partial x} & \\frac{\\partial f_3}{\\partial \\dot{x}} & \\frac{\\partial f_3}{\\partial \\theta} & \\frac{\\partial f_3}{\\partial \\dot{\\theta}} \\\\[0.5em]\n",
    "    \\frac{\\partial f_4}{\\partial x} & \\frac{\\partial f_4}{\\partial \\dot{x}} & \\frac{\\partial f_4}{\\partial \\theta} & \\frac{\\partial f_4}{\\partial \\dot{\\theta}}\n",
    "\\end{bmatrix}\n",
    "$$"
   ]
  },
  {
   "cell_type": "code",
   "execution_count": 42,
   "id": "e7e3d5f0",
   "metadata": {},
   "outputs": [
    {
     "data": {
      "text/latex": [
       "$\\displaystyle \\left[\\begin{matrix}\\frac{d}{d t} x{\\left(t \\right)}\\\\\\frac{m \\left(g \\cos{\\left(\\theta{\\left(t \\right)} \\right)} + l \\left(\\frac{d}{d t} \\theta{\\left(t \\right)}\\right)^{2}\\right) \\sin{\\left(\\theta{\\left(t \\right)} \\right)}}{M + m \\sin^{2}{\\left(\\theta{\\left(t \\right)} \\right)}}\\\\\\frac{d}{d t} \\theta{\\left(t \\right)}\\\\- \\frac{\\left(M g + g m + l m \\cos{\\left(\\theta{\\left(t \\right)} \\right)} \\left(\\frac{d}{d t} \\theta{\\left(t \\right)}\\right)^{2}\\right) \\sin{\\left(\\theta{\\left(t \\right)} \\right)}}{l \\left(M + m \\sin^{2}{\\left(\\theta{\\left(t \\right)} \\right)}\\right)}\\end{matrix}\\right]$"
      ],
      "text/plain": [
       "Matrix([\n",
       "[                                                                                   Derivative(x(t), t)],\n",
       "[             m*(g*cos(theta(t)) + l*Derivative(theta(t), t)**2)*sin(theta(t))/(M + m*sin(theta(t))**2)],\n",
       "[                                                                               Derivative(theta(t), t)],\n",
       "[-(M*g + g*m + l*m*cos(theta(t))*Derivative(theta(t), t)**2)*sin(theta(t))/(l*(M + m*sin(theta(t))**2))]])"
      ]
     },
     "execution_count": 42,
     "metadata": {},
     "output_type": "execute_result"
    }
   ],
   "source": [
    "eq_system = sp.Matrix([\n",
    "    x(t).diff(t),\n",
    "    x_ddot,\n",
    "    theta(t).diff(t),\n",
    "    theta_ddot\n",
    "])\n",
    "eq_system\n"
   ]
  },
  {
   "cell_type": "code",
   "execution_count": 43,
   "id": "731b8ebc",
   "metadata": {},
   "outputs": [
    {
     "data": {
      "text/latex": [
       "$\\displaystyle \\left[\\begin{matrix}0 & 1 & 0 & 0\\\\0 & 0 & - \\frac{g m \\sin^{2}{\\left(\\theta{\\left(t \\right)} \\right)}}{M + m \\sin^{2}{\\left(\\theta{\\left(t \\right)} \\right)}} - \\frac{2 m^{2} \\left(g \\cos{\\left(\\theta{\\left(t \\right)} \\right)} + l \\left(\\frac{d}{d t} \\theta{\\left(t \\right)}\\right)^{2}\\right) \\sin^{2}{\\left(\\theta{\\left(t \\right)} \\right)} \\cos{\\left(\\theta{\\left(t \\right)} \\right)}}{\\left(M + m \\sin^{2}{\\left(\\theta{\\left(t \\right)} \\right)}\\right)^{2}} + \\frac{m \\left(g \\cos{\\left(\\theta{\\left(t \\right)} \\right)} + l \\left(\\frac{d}{d t} \\theta{\\left(t \\right)}\\right)^{2}\\right) \\cos{\\left(\\theta{\\left(t \\right)} \\right)}}{M + m \\sin^{2}{\\left(\\theta{\\left(t \\right)} \\right)}} & \\frac{2 l m \\sin{\\left(\\theta{\\left(t \\right)} \\right)} \\frac{d}{d t} \\theta{\\left(t \\right)}}{M + m \\sin^{2}{\\left(\\theta{\\left(t \\right)} \\right)}}\\\\0 & 0 & 0 & 1\\\\0 & 0 & \\frac{m \\sin^{2}{\\left(\\theta{\\left(t \\right)} \\right)} \\left(\\frac{d}{d t} \\theta{\\left(t \\right)}\\right)^{2}}{M + m \\sin^{2}{\\left(\\theta{\\left(t \\right)} \\right)}} + \\frac{2 m \\left(M g + g m + l m \\cos{\\left(\\theta{\\left(t \\right)} \\right)} \\left(\\frac{d}{d t} \\theta{\\left(t \\right)}\\right)^{2}\\right) \\sin^{2}{\\left(\\theta{\\left(t \\right)} \\right)} \\cos{\\left(\\theta{\\left(t \\right)} \\right)}}{l \\left(M + m \\sin^{2}{\\left(\\theta{\\left(t \\right)} \\right)}\\right)^{2}} - \\frac{\\left(M g + g m + l m \\cos{\\left(\\theta{\\left(t \\right)} \\right)} \\left(\\frac{d}{d t} \\theta{\\left(t \\right)}\\right)^{2}\\right) \\cos{\\left(\\theta{\\left(t \\right)} \\right)}}{l \\left(M + m \\sin^{2}{\\left(\\theta{\\left(t \\right)} \\right)}\\right)} & - \\frac{2 m \\sin{\\left(\\theta{\\left(t \\right)} \\right)} \\cos{\\left(\\theta{\\left(t \\right)} \\right)} \\frac{d}{d t} \\theta{\\left(t \\right)}}{M + m \\sin^{2}{\\left(\\theta{\\left(t \\right)} \\right)}}\\end{matrix}\\right]$"
      ],
      "text/plain": [
       "Matrix([\n",
       "[0, 1,                                                                                                                                                                                                                                                                                                              0,                                                                                 0],\n",
       "[0, 0,                                                -g*m*sin(theta(t))**2/(M + m*sin(theta(t))**2) - 2*m**2*(g*cos(theta(t)) + l*Derivative(theta(t), t)**2)*sin(theta(t))**2*cos(theta(t))/(M + m*sin(theta(t))**2)**2 + m*(g*cos(theta(t)) + l*Derivative(theta(t), t)**2)*cos(theta(t))/(M + m*sin(theta(t))**2),              2*l*m*sin(theta(t))*Derivative(theta(t), t)/(M + m*sin(theta(t))**2)],\n",
       "[0, 0,                                                                                                                                                                                                                                                                                                              0,                                                                                 1],\n",
       "[0, 0, m*sin(theta(t))**2*Derivative(theta(t), t)**2/(M + m*sin(theta(t))**2) + 2*m*(M*g + g*m + l*m*cos(theta(t))*Derivative(theta(t), t)**2)*sin(theta(t))**2*cos(theta(t))/(l*(M + m*sin(theta(t))**2)**2) - (M*g + g*m + l*m*cos(theta(t))*Derivative(theta(t), t)**2)*cos(theta(t))/(l*(M + m*sin(theta(t))**2)), -2*m*sin(theta(t))*cos(theta(t))*Derivative(theta(t), t)/(M + m*sin(theta(t))**2)]])"
      ]
     },
     "execution_count": 43,
     "metadata": {},
     "output_type": "execute_result"
    }
   ],
   "source": [
    "vars = [x(t), x(t).diff(t), theta(t), theta(t).diff(t)]\n",
    "jacobian = eq_system.jacobian(vars)\n",
    "jacobian"
   ]
  },
  {
   "attachments": {},
   "cell_type": "markdown",
   "id": "2e3e8f0e",
   "metadata": {},
   "source": [
    "## Fixed Point"
   ]
  },
  {
   "cell_type": "code",
   "execution_count": 44,
   "id": "4f864624",
   "metadata": {},
   "outputs": [],
   "source": [
    "fixed_point = {x(t): 0, x(t).diff(t): 0, theta(t): sp.pi, theta(t).diff(t): 0}"
   ]
  },
  {
   "cell_type": "code",
   "execution_count": 45,
   "id": "c54b1d9f",
   "metadata": {},
   "outputs": [
    {
     "data": {
      "text/latex": [
       "$\\displaystyle \\left[\\begin{matrix}0 & 1 & 0 & 0\\\\0 & 0 & \\frac{g m}{M} & 0\\\\0 & 0 & 0 & 1\\\\0 & 0 & \\frac{M g + g m}{M l} & 0\\end{matrix}\\right]$"
      ],
      "text/plain": [
       "Matrix([\n",
       "[0, 1,                 0, 0],\n",
       "[0, 0,             g*m/M, 0],\n",
       "[0, 0,                 0, 1],\n",
       "[0, 0, (M*g + g*m)/(M*l), 0]])"
      ]
     },
     "execution_count": 45,
     "metadata": {},
     "output_type": "execute_result"
    }
   ],
   "source": [
    "jacobian.subs(fixed_point)"
   ]
  }
 ],
 "metadata": {
  "kernelspec": {
   "display_name": "Python 3 (ipykernel)",
   "language": "python",
   "name": "python3"
  },
  "language_info": {
   "codemirror_mode": {
    "name": "ipython",
    "version": 3
   },
   "file_extension": ".py",
   "mimetype": "text/x-python",
   "name": "python",
   "nbconvert_exporter": "python",
   "pygments_lexer": "ipython3",
   "version": "3.10.11"
  }
 },
 "nbformat": 4,
 "nbformat_minor": 5
}
