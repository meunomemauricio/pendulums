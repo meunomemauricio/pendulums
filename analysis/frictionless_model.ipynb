{
 "cells": [
  {
   "attachments": {},
   "cell_type": "markdown",
   "id": "2b0ce11d",
   "metadata": {},
   "source": [
    "# Frictionless Pendulum on a Cart (No Forcing)"
   ]
  },
  {
   "attachments": {},
   "cell_type": "markdown",
   "id": "d47b6e57",
   "metadata": {},
   "source": [
    "## Imports"
   ]
  },
  {
   "cell_type": "code",
   "execution_count": 37,
   "id": "b0a0ead1",
   "metadata": {},
   "outputs": [],
   "source": [
    "import math\n",
    "\n",
    "import numpy as np\n",
    "import sympy as sp\n",
    "import scipy\n",
    "import plotly.express as px"
   ]
  },
  {
   "attachments": {},
   "cell_type": "markdown",
   "id": "d5a42e66",
   "metadata": {},
   "source": [
    "## Symbols"
   ]
  },
  {
   "cell_type": "code",
   "execution_count": 2,
   "id": "34650d3c",
   "metadata": {},
   "outputs": [],
   "source": [
    "t, g = sp.symbols(\"t g\")\n",
    "l, m, M = sp.symbols(\"l m M\")\n",
    "\n",
    "theta = sp.Function(\"theta\")\n",
    "x = sp.Function(\"x\")"
   ]
  },
  {
   "attachments": {},
   "cell_type": "markdown",
   "id": "fdf03aca",
   "metadata": {},
   "source": [
    "# Phisical Modeling"
   ]
  },
  {
   "attachments": {},
   "cell_type": "markdown",
   "id": "d3739b45",
   "metadata": {},
   "source": [
    "## Kinematics"
   ]
  },
  {
   "cell_type": "code",
   "execution_count": 3,
   "id": "9121249d",
   "metadata": {},
   "outputs": [
    {
     "data": {
      "text/latex": [
       "$\\displaystyle l \\sin{\\left(\\theta{\\left(t \\right)} \\right)} + x{\\left(t \\right)}$"
      ],
      "text/plain": [
       "l*sin(theta(t)) + x(t)"
      ]
     },
     "execution_count": 3,
     "metadata": {},
     "output_type": "execute_result"
    }
   ],
   "source": [
    "x_p = x(t) + l * sp.sin(theta(t))\n",
    "x_p"
   ]
  },
  {
   "cell_type": "code",
   "execution_count": 4,
   "id": "e5e3ed3c",
   "metadata": {},
   "outputs": [
    {
     "data": {
      "text/latex": [
       "$\\displaystyle - l \\cos{\\left(\\theta{\\left(t \\right)} \\right)}$"
      ],
      "text/plain": [
       "-l*cos(theta(t))"
      ]
     },
     "execution_count": 4,
     "metadata": {},
     "output_type": "execute_result"
    }
   ],
   "source": [
    "y_p = -l * sp.cos(theta(t))\n",
    "y_p"
   ]
  },
  {
   "cell_type": "code",
   "execution_count": 5,
   "id": "9403157f",
   "metadata": {},
   "outputs": [
    {
     "data": {
      "text/latex": [
       "$\\displaystyle l \\cos{\\left(\\theta{\\left(t \\right)} \\right)} \\frac{d}{d t} \\theta{\\left(t \\right)} + \\frac{d}{d t} x{\\left(t \\right)}$"
      ],
      "text/plain": [
       "l*cos(theta(t))*Derivative(theta(t), t) + Derivative(x(t), t)"
      ]
     },
     "execution_count": 5,
     "metadata": {},
     "output_type": "execute_result"
    }
   ],
   "source": [
    "x_p_dot = x_p.diff(t)\n",
    "x_p_dot"
   ]
  },
  {
   "cell_type": "code",
   "execution_count": 6,
   "id": "24f1d333",
   "metadata": {},
   "outputs": [
    {
     "data": {
      "text/latex": [
       "$\\displaystyle l \\sin{\\left(\\theta{\\left(t \\right)} \\right)} \\frac{d}{d t} \\theta{\\left(t \\right)}$"
      ],
      "text/plain": [
       "l*sin(theta(t))*Derivative(theta(t), t)"
      ]
     },
     "execution_count": 6,
     "metadata": {},
     "output_type": "execute_result"
    }
   ],
   "source": [
    "y_p_dot = y_p.diff(t)\n",
    "y_p_dot"
   ]
  },
  {
   "attachments": {},
   "cell_type": "markdown",
   "id": "8539b4b5",
   "metadata": {},
   "source": [
    "## Potential Energy\n",
    "\n",
    "There's only the gravitational potential energy, which acts in the `y` direction.\n",
    "\n",
    "$$\n",
    "V = m \\cdot g \\cdot y = - m \\cdot g \\cdot l \\cdot cos(\\theta)\n",
    "$$"
   ]
  },
  {
   "cell_type": "code",
   "execution_count": 7,
   "id": "1c4cee99",
   "metadata": {},
   "outputs": [
    {
     "data": {
      "text/latex": [
       "$\\displaystyle - g l m \\cos{\\left(\\theta{\\left(t \\right)} \\right)}$"
      ],
      "text/plain": [
       "-g*l*m*cos(theta(t))"
      ]
     },
     "execution_count": 7,
     "metadata": {},
     "output_type": "execute_result"
    }
   ],
   "source": [
    "V = -m * g * l * sp.cos(theta(t))\n",
    "V"
   ]
  },
  {
   "attachments": {},
   "cell_type": "markdown",
   "id": "4c80d503",
   "metadata": {},
   "source": [
    "## Kinectic Energy\n",
    "\n",
    "There are two Kinectic energies, one related to the Cart and one on the Pendulum mass. The total energy is the sum of both.\n",
    "\n",
    "Since the pendulum moves in two coordinates, it can be modeled as two separate kinectic energies.\n",
    "\n",
    "$$\n",
    "T = \\frac{1}{2} \\cdot M \\cdot \\dot{x}^2 + \\frac{1}{2} \\cdot m \\cdot \\dot{x}_p^2 + \\frac{1}{2} \\cdot m \\cdot \\dot{y}_p^2\n",
    "$$\n",
    "\n",
    "$$\n",
    "T = \\frac{1}{2} \\cdot M \\cdot \\dot{x}^2 + \\frac{1}{2} \\cdot m \\cdot (\\dot{x}_p^2 + \\dot{y}_p^2)\n",
    "$$"
   ]
  },
  {
   "cell_type": "code",
   "execution_count": 8,
   "id": "f7028a3b",
   "metadata": {},
   "outputs": [
    {
     "data": {
      "text/latex": [
       "$\\displaystyle \\frac{M \\left(\\frac{d}{d t} x{\\left(t \\right)}\\right)^{2}}{2} + \\frac{m \\left(l^{2} \\left(\\frac{d}{d t} \\theta{\\left(t \\right)}\\right)^{2} + 2 l \\cos{\\left(\\theta{\\left(t \\right)} \\right)} \\frac{d}{d t} \\theta{\\left(t \\right)} \\frac{d}{d t} x{\\left(t \\right)} + \\left(\\frac{d}{d t} x{\\left(t \\right)}\\right)^{2}\\right)}{2}$"
      ],
      "text/plain": [
       "M*Derivative(x(t), t)**2/2 + m*(l**2*Derivative(theta(t), t)**2 + 2*l*cos(theta(t))*Derivative(theta(t), t)*Derivative(x(t), t) + Derivative(x(t), t)**2)/2"
      ]
     },
     "execution_count": 8,
     "metadata": {},
     "output_type": "execute_result"
    }
   ],
   "source": [
    "T = sp.Rational(1, 2) * M * (x(t).diff(t) ** 2) + sp.Rational(1, 2) * m * (\n",
    "    x_p_dot**2 + y_p_dot**2\n",
    ")\n",
    "T.simplify()"
   ]
  },
  {
   "attachments": {},
   "cell_type": "markdown",
   "id": "68b3c69f",
   "metadata": {},
   "source": [
    "## Lagrangian and Equations of Motion"
   ]
  },
  {
   "cell_type": "code",
   "execution_count": 9,
   "id": "33ee1024",
   "metadata": {},
   "outputs": [
    {
     "data": {
      "text/latex": [
       "$\\displaystyle \\frac{M \\left(\\frac{d}{d t} x{\\left(t \\right)}\\right)^{2}}{2} + g l m \\cos{\\left(\\theta{\\left(t \\right)} \\right)} + \\frac{m \\left(l^{2} \\sin^{2}{\\left(\\theta{\\left(t \\right)} \\right)} \\left(\\frac{d}{d t} \\theta{\\left(t \\right)}\\right)^{2} + \\left(l \\cos{\\left(\\theta{\\left(t \\right)} \\right)} \\frac{d}{d t} \\theta{\\left(t \\right)} + \\frac{d}{d t} x{\\left(t \\right)}\\right)^{2}\\right)}{2}$"
      ],
      "text/plain": [
       "M*Derivative(x(t), t)**2/2 + g*l*m*cos(theta(t)) + m*(l**2*sin(theta(t))**2*Derivative(theta(t), t)**2 + (l*cos(theta(t))*Derivative(theta(t), t) + Derivative(x(t), t))**2)/2"
      ]
     },
     "execution_count": 9,
     "metadata": {},
     "output_type": "execute_result"
    }
   ],
   "source": [
    "L = T - V\n",
    "L"
   ]
  },
  {
   "cell_type": "code",
   "execution_count": 10,
   "id": "415f1164",
   "metadata": {},
   "outputs": [],
   "source": [
    "x_motion_eq, theta_motion_eq = sp.euler_equations(L, [x(t), theta(t)], t)"
   ]
  },
  {
   "cell_type": "code",
   "execution_count": 11,
   "id": "6195c041",
   "metadata": {},
   "outputs": [
    {
     "data": {
      "text/latex": [
       "$\\displaystyle - M \\frac{d^{2}}{d t^{2}} x{\\left(t \\right)} - m \\left(- l \\sin{\\left(\\theta{\\left(t \\right)} \\right)} \\left(\\frac{d}{d t} \\theta{\\left(t \\right)}\\right)^{2} + l \\cos{\\left(\\theta{\\left(t \\right)} \\right)} \\frac{d^{2}}{d t^{2}} \\theta{\\left(t \\right)} + \\frac{d^{2}}{d t^{2}} x{\\left(t \\right)}\\right) = 0$"
      ],
      "text/plain": [
       "Eq(-M*Derivative(x(t), (t, 2)) - m*(-l*sin(theta(t))*Derivative(theta(t), t)**2 + l*cos(theta(t))*Derivative(theta(t), (t, 2)) + Derivative(x(t), (t, 2))), 0)"
      ]
     },
     "execution_count": 11,
     "metadata": {},
     "output_type": "execute_result"
    }
   ],
   "source": [
    "x_motion_eq"
   ]
  },
  {
   "cell_type": "code",
   "execution_count": 12,
   "id": "e92d938d",
   "metadata": {},
   "outputs": [
    {
     "data": {
      "text/latex": [
       "$\\displaystyle l m \\left(g \\sin{\\left(\\theta{\\left(t \\right)} \\right)} + l \\frac{d^{2}}{d t^{2}} \\theta{\\left(t \\right)} + \\cos{\\left(\\theta{\\left(t \\right)} \\right)} \\frac{d^{2}}{d t^{2}} x{\\left(t \\right)}\\right) = 0$"
      ],
      "text/plain": [
       "Eq(l*m*(g*sin(theta(t)) + l*Derivative(theta(t), (t, 2)) + cos(theta(t))*Derivative(x(t), (t, 2))), 0)"
      ]
     },
     "execution_count": 12,
     "metadata": {},
     "output_type": "execute_result"
    }
   ],
   "source": [
    "theta_motion_eq.simplify()"
   ]
  },
  {
   "attachments": {},
   "cell_type": "markdown",
   "id": "88f24384",
   "metadata": {},
   "source": [
    "# Coupled Equations\n",
    "\n",
    "In the previous section, both Euler-Lagrange equations of motion are coupled to each other's second order derivative:\n",
    "\n",
    "$$\n",
    "\\ddot{x} = f(t, x, \\dot{x}, \\ddot{x}, \\theta, \\dot{\\theta}, \\ddot{\\theta}) \\\\\n",
    "\\ddot{\\theta} = f(t, x, \\dot{x}, \\ddot{x}, \\theta, \\dot{\\theta}, \\ddot{\\theta})\n",
    "$$\n",
    "\n",
    "Before linearizing them, It's necessary to solve the system so that it's possible to write $\\ddot{x}$ and $\\ddot{\\theta}$ as only functions of lower order derivatives:\n",
    "\n",
    "$$\n",
    "\\ddot{x} = f(t, x, \\dot{x}, \\theta, \\dot{\\theta}) \\\\\n",
    "\\ddot{\\theta} = f(t, x, \\dot{x}, \\theta, \\dot{\\theta})\n",
    "$$\n"
   ]
  },
  {
   "cell_type": "code",
   "execution_count": 13,
   "id": "9b937fdb",
   "metadata": {},
   "outputs": [],
   "source": [
    "sols = sp.solve(\n",
    "    [x_motion_eq, theta_motion_eq], [x(t).diff(t, 2), theta(t).diff(t, 2)]\n",
    ")"
   ]
  },
  {
   "cell_type": "code",
   "execution_count": 14,
   "id": "f92053b1",
   "metadata": {},
   "outputs": [
    {
     "data": {
      "text/latex": [
       "$\\displaystyle \\frac{m \\left(g \\cos{\\left(\\theta{\\left(t \\right)} \\right)} + l \\left(\\frac{d}{d t} \\theta{\\left(t \\right)}\\right)^{2}\\right) \\sin{\\left(\\theta{\\left(t \\right)} \\right)}}{M + m \\sin^{2}{\\left(\\theta{\\left(t \\right)} \\right)}}$"
      ],
      "text/plain": [
       "m*(g*cos(theta(t)) + l*Derivative(theta(t), t)**2)*sin(theta(t))/(M + m*sin(theta(t))**2)"
      ]
     },
     "execution_count": 14,
     "metadata": {},
     "output_type": "execute_result"
    }
   ],
   "source": [
    "x_ddot = sols[x(t).diff(t, 2)].simplify()\n",
    "x_ddot"
   ]
  },
  {
   "cell_type": "code",
   "execution_count": 15,
   "id": "c91b48ec",
   "metadata": {},
   "outputs": [
    {
     "data": {
      "text/latex": [
       "$\\displaystyle - \\frac{\\left(M g + g m + l m \\cos{\\left(\\theta{\\left(t \\right)} \\right)} \\left(\\frac{d}{d t} \\theta{\\left(t \\right)}\\right)^{2}\\right) \\sin{\\left(\\theta{\\left(t \\right)} \\right)}}{l \\left(M + m \\sin^{2}{\\left(\\theta{\\left(t \\right)} \\right)}\\right)}$"
      ],
      "text/plain": [
       "-(M*g + g*m + l*m*cos(theta(t))*Derivative(theta(t), t)**2)*sin(theta(t))/(l*(M + m*sin(theta(t))**2))"
      ]
     },
     "execution_count": 15,
     "metadata": {},
     "output_type": "execute_result"
    }
   ],
   "source": [
    "theta_ddot = sols[theta(t).diff(t, 2)].simplify()\n",
    "theta_ddot"
   ]
  },
  {
   "attachments": {},
   "cell_type": "markdown",
   "id": "89ef3036",
   "metadata": {},
   "source": [
    "# Linearization\n",
    "\n",
    "From the previous section, it's possible to write the system of equations in this format:\n",
    "\n",
    "$$\n",
    "\\frac{d}{dt} \\begin{bmatrix}\n",
    "  x \\\\\n",
    "  \\dot{x} \\\\\n",
    "  \\theta \\\\\n",
    "  \\dot{\\theta}\n",
    "\\end{bmatrix}\n",
    "= \\begin{bmatrix}\n",
    "  f_1(t, x, \\dot{x}, \\theta, \\dot{\\theta}) \\\\\n",
    "  f_2(t, x, \\dot{x}, \\theta, \\dot{\\theta}) \\\\\n",
    "  f_3(t, x, \\dot{x}, \\theta, \\dot{\\theta}) \\\\\n",
    "  f_4(t, x, \\dot{x}, \\theta, \\dot{\\theta})\n",
    "\\end{bmatrix}\n",
    "= \\begin{bmatrix}\n",
    "  \\dot{x} \\\\\n",
    "  \\ddot{x} \\\\ \n",
    "  \\dot{\\theta} \\\\\n",
    "  \\ddot{\\theta}\n",
    "\\end{bmatrix}\n",
    "$$"
   ]
  },
  {
   "attachments": {},
   "cell_type": "markdown",
   "id": "86eabeba",
   "metadata": {},
   "source": [
    "## Jacobian Matrix\n",
    "\n",
    "The first step to linearize this sytems is to compute the Jacobian matrix:\n",
    "\n",
    "$$\n",
    "\\frac{D_f}{D_x} = \\begin{bmatrix}\n",
    "    \\frac{\\partial f_1}{\\partial x} & \\frac{\\partial f_1}{\\partial \\dot{x}} & \\frac{\\partial f_1}{\\partial \\theta} & \\frac{\\partial f_1}{\\partial \\dot{\\theta}} \\\\[0.5em]\n",
    "    \\frac{\\partial f_2}{\\partial x} & \\frac{\\partial f_2}{\\partial \\dot{x}} & \\frac{\\partial f_2}{\\partial \\theta} & \\frac{\\partial f_2}{\\partial \\dot{\\theta}} \\\\[0.5em]\n",
    "    \\frac{\\partial f_3}{\\partial x} & \\frac{\\partial f_3}{\\partial \\dot{x}} & \\frac{\\partial f_3}{\\partial \\theta} & \\frac{\\partial f_3}{\\partial \\dot{\\theta}} \\\\[0.5em]\n",
    "    \\frac{\\partial f_4}{\\partial x} & \\frac{\\partial f_4}{\\partial \\dot{x}} & \\frac{\\partial f_4}{\\partial \\theta} & \\frac{\\partial f_4}{\\partial \\dot{\\theta}}\n",
    "\\end{bmatrix}\n",
    "$$"
   ]
  },
  {
   "cell_type": "code",
   "execution_count": 16,
   "id": "e7e3d5f0",
   "metadata": {},
   "outputs": [
    {
     "data": {
      "text/latex": [
       "$\\displaystyle \\left[\\begin{matrix}\\frac{d}{d t} x{\\left(t \\right)}\\\\\\frac{m \\left(g \\cos{\\left(\\theta{\\left(t \\right)} \\right)} + l \\left(\\frac{d}{d t} \\theta{\\left(t \\right)}\\right)^{2}\\right) \\sin{\\left(\\theta{\\left(t \\right)} \\right)}}{M + m \\sin^{2}{\\left(\\theta{\\left(t \\right)} \\right)}}\\\\\\frac{d}{d t} \\theta{\\left(t \\right)}\\\\- \\frac{\\left(M g + g m + l m \\cos{\\left(\\theta{\\left(t \\right)} \\right)} \\left(\\frac{d}{d t} \\theta{\\left(t \\right)}\\right)^{2}\\right) \\sin{\\left(\\theta{\\left(t \\right)} \\right)}}{l \\left(M + m \\sin^{2}{\\left(\\theta{\\left(t \\right)} \\right)}\\right)}\\end{matrix}\\right]$"
      ],
      "text/plain": [
       "Matrix([\n",
       "[                                                                                   Derivative(x(t), t)],\n",
       "[             m*(g*cos(theta(t)) + l*Derivative(theta(t), t)**2)*sin(theta(t))/(M + m*sin(theta(t))**2)],\n",
       "[                                                                               Derivative(theta(t), t)],\n",
       "[-(M*g + g*m + l*m*cos(theta(t))*Derivative(theta(t), t)**2)*sin(theta(t))/(l*(M + m*sin(theta(t))**2))]])"
      ]
     },
     "execution_count": 16,
     "metadata": {},
     "output_type": "execute_result"
    }
   ],
   "source": [
    "eq_system = sp.Matrix([x(t).diff(t), x_ddot, theta(t).diff(t), theta_ddot])\n",
    "eq_system"
   ]
  },
  {
   "cell_type": "code",
   "execution_count": 17,
   "id": "731b8ebc",
   "metadata": {},
   "outputs": [
    {
     "data": {
      "text/latex": [
       "$\\displaystyle \\left[\\begin{matrix}0 & 1 & 0 & 0\\\\0 & 0 & - \\frac{g m \\sin^{2}{\\left(\\theta{\\left(t \\right)} \\right)}}{M + m \\sin^{2}{\\left(\\theta{\\left(t \\right)} \\right)}} - \\frac{2 m^{2} \\left(g \\cos{\\left(\\theta{\\left(t \\right)} \\right)} + l \\left(\\frac{d}{d t} \\theta{\\left(t \\right)}\\right)^{2}\\right) \\sin^{2}{\\left(\\theta{\\left(t \\right)} \\right)} \\cos{\\left(\\theta{\\left(t \\right)} \\right)}}{\\left(M + m \\sin^{2}{\\left(\\theta{\\left(t \\right)} \\right)}\\right)^{2}} + \\frac{m \\left(g \\cos{\\left(\\theta{\\left(t \\right)} \\right)} + l \\left(\\frac{d}{d t} \\theta{\\left(t \\right)}\\right)^{2}\\right) \\cos{\\left(\\theta{\\left(t \\right)} \\right)}}{M + m \\sin^{2}{\\left(\\theta{\\left(t \\right)} \\right)}} & \\frac{2 l m \\sin{\\left(\\theta{\\left(t \\right)} \\right)} \\frac{d}{d t} \\theta{\\left(t \\right)}}{M + m \\sin^{2}{\\left(\\theta{\\left(t \\right)} \\right)}}\\\\0 & 0 & 0 & 1\\\\0 & 0 & \\frac{m \\sin^{2}{\\left(\\theta{\\left(t \\right)} \\right)} \\left(\\frac{d}{d t} \\theta{\\left(t \\right)}\\right)^{2}}{M + m \\sin^{2}{\\left(\\theta{\\left(t \\right)} \\right)}} + \\frac{2 m \\left(M g + g m + l m \\cos{\\left(\\theta{\\left(t \\right)} \\right)} \\left(\\frac{d}{d t} \\theta{\\left(t \\right)}\\right)^{2}\\right) \\sin^{2}{\\left(\\theta{\\left(t \\right)} \\right)} \\cos{\\left(\\theta{\\left(t \\right)} \\right)}}{l \\left(M + m \\sin^{2}{\\left(\\theta{\\left(t \\right)} \\right)}\\right)^{2}} - \\frac{\\left(M g + g m + l m \\cos{\\left(\\theta{\\left(t \\right)} \\right)} \\left(\\frac{d}{d t} \\theta{\\left(t \\right)}\\right)^{2}\\right) \\cos{\\left(\\theta{\\left(t \\right)} \\right)}}{l \\left(M + m \\sin^{2}{\\left(\\theta{\\left(t \\right)} \\right)}\\right)} & - \\frac{2 m \\sin{\\left(\\theta{\\left(t \\right)} \\right)} \\cos{\\left(\\theta{\\left(t \\right)} \\right)} \\frac{d}{d t} \\theta{\\left(t \\right)}}{M + m \\sin^{2}{\\left(\\theta{\\left(t \\right)} \\right)}}\\end{matrix}\\right]$"
      ],
      "text/plain": [
       "Matrix([\n",
       "[0, 1,                                                                                                                                                                                                                                                                                                              0,                                                                                 0],\n",
       "[0, 0,                                                -g*m*sin(theta(t))**2/(M + m*sin(theta(t))**2) - 2*m**2*(g*cos(theta(t)) + l*Derivative(theta(t), t)**2)*sin(theta(t))**2*cos(theta(t))/(M + m*sin(theta(t))**2)**2 + m*(g*cos(theta(t)) + l*Derivative(theta(t), t)**2)*cos(theta(t))/(M + m*sin(theta(t))**2),              2*l*m*sin(theta(t))*Derivative(theta(t), t)/(M + m*sin(theta(t))**2)],\n",
       "[0, 0,                                                                                                                                                                                                                                                                                                              0,                                                                                 1],\n",
       "[0, 0, m*sin(theta(t))**2*Derivative(theta(t), t)**2/(M + m*sin(theta(t))**2) + 2*m*(M*g + g*m + l*m*cos(theta(t))*Derivative(theta(t), t)**2)*sin(theta(t))**2*cos(theta(t))/(l*(M + m*sin(theta(t))**2)**2) - (M*g + g*m + l*m*cos(theta(t))*Derivative(theta(t), t)**2)*cos(theta(t))/(l*(M + m*sin(theta(t))**2)), -2*m*sin(theta(t))*cos(theta(t))*Derivative(theta(t), t)/(M + m*sin(theta(t))**2)]])"
      ]
     },
     "execution_count": 17,
     "metadata": {},
     "output_type": "execute_result"
    }
   ],
   "source": [
    "vars = [x(t), x(t).diff(t), theta(t), theta(t).diff(t)]\n",
    "jacobian = eq_system.jacobian(vars)\n",
    "jacobian"
   ]
  },
  {
   "attachments": {},
   "cell_type": "markdown",
   "id": "2e3e8f0e",
   "metadata": {},
   "source": [
    "## Fixed Point"
   ]
  },
  {
   "cell_type": "code",
   "execution_count": 18,
   "id": "4f864624",
   "metadata": {},
   "outputs": [],
   "source": [
    "fixed_point = {x(t): 0, x(t).diff(t): 0, theta(t): sp.pi, theta(t).diff(t): 0}"
   ]
  },
  {
   "cell_type": "code",
   "execution_count": 19,
   "id": "c54b1d9f",
   "metadata": {},
   "outputs": [
    {
     "data": {
      "text/latex": [
       "$\\displaystyle \\left[\\begin{matrix}0 & 1 & 0 & 0\\\\0 & 0 & \\frac{g m}{M} & 0\\\\0 & 0 & 0 & 1\\\\0 & 0 & \\frac{M g + g m}{M l} & 0\\end{matrix}\\right]$"
      ],
      "text/plain": [
       "Matrix([\n",
       "[0, 1,                 0, 0],\n",
       "[0, 0,             g*m/M, 0],\n",
       "[0, 0,                 0, 1],\n",
       "[0, 0, (M*g + g*m)/(M*l), 0]])"
      ]
     },
     "execution_count": 19,
     "metadata": {},
     "output_type": "execute_result"
    }
   ],
   "source": [
    "jacobian.subs(fixed_point)"
   ]
  },
  {
   "attachments": {},
   "cell_type": "markdown",
   "id": "758d787e",
   "metadata": {},
   "source": [
    "# Simulation"
   ]
  },
  {
   "cell_type": "code",
   "execution_count": 42,
   "id": "1f9e823e",
   "metadata": {},
   "outputs": [],
   "source": [
    "def non_linear_system(m: float, M: float, l: float, g: float) -> callable:\n",
    "    def func(t, y):\n",
    "        x_t, v_t, theta_t, theta_dot_t = y\n",
    "\n",
    "        sin_theta_t = np.sin(theta_t)\n",
    "        cos_theta_t = np.cos(theta_t)\n",
    "\n",
    "        v_N = m * (g * cos_theta_t + l * (theta_dot_t**2)) * sin_theta_t\n",
    "        v_D = M + m * (sin_theta_t**2)\n",
    "        v_dot_t = v_N / v_D\n",
    "\n",
    "        t_ddot_N = (\n",
    "            M * g + g * m + l * m * cos_theta_t * (theta_dot_t**2)\n",
    "        ) * sin_theta_t\n",
    "        t_ddot_D = l * (M + m * (sin_theta_t**2))\n",
    "        theta_ddot_t = -t_ddot_N / t_ddot_D\n",
    "\n",
    "        return [v_t, v_dot_t, theta_dot_t, theta_ddot_t]\n",
    "\n",
    "    return func"
   ]
  },
  {
   "cell_type": "code",
   "execution_count": 43,
   "id": "fdcb6128",
   "metadata": {},
   "outputs": [],
   "source": [
    "system_function = non_linear_system(m=0.005, M=0.2, l=0.3, g=-9.807)"
   ]
  },
  {
   "cell_type": "code",
   "execution_count": 44,
   "id": "b839b999",
   "metadata": {},
   "outputs": [],
   "source": [
    "init = [0, 0, math.radians(5), 0]\n",
    "t = np.arange(0, 10, 0.01)\n",
    "nl_solution = scipy.integrate.solve_ivp(\n",
    "    system_function, (0, 10), init, t_eval=t\n",
    ")"
   ]
  },
  {
   "cell_type": "code",
   "execution_count": 47,
   "id": "b0f56b87",
   "metadata": {},
   "outputs": [
    {
     "data": {
      "application/vnd.plotly.v1+json": {
       "config": {
        "plotlyServerURL": "https://plot.ly"
       },
       "data": [
        {
         "hovertemplate": "x=%{x}<br>y=%{y}<extra></extra>",
         "legendgroup": "",
         "line": {
          "color": "#636efa",
          "dash": "solid"
         },
         "marker": {
          "symbol": "circle"
         },
         "mode": "lines",
         "name": "",
         "orientation": "v",
         "showlegend": false,
         "type": "scatter",
         "x": [
          0,
          0.01,
          0.02,
          0.03,
          0.04,
          0.05,
          0.06,
          0.07,
          0.08,
          0.09,
          0.1,
          0.11,
          0.12,
          0.13,
          0.14,
          0.15,
          0.16,
          0.17,
          0.18,
          0.19,
          0.2,
          0.21,
          0.22,
          0.23,
          0.24,
          0.25,
          0.26,
          0.27,
          0.28,
          0.29,
          0.3,
          0.31,
          0.32,
          0.33,
          0.34,
          0.35000000000000003,
          0.36,
          0.37,
          0.38,
          0.39,
          0.4,
          0.41000000000000003,
          0.42,
          0.43,
          0.44,
          0.45,
          0.46,
          0.47000000000000003,
          0.48,
          0.49,
          0.5,
          0.51,
          0.52,
          0.53,
          0.54,
          0.55,
          0.56,
          0.5700000000000001,
          0.58,
          0.59,
          0.6,
          0.61,
          0.62,
          0.63,
          0.64,
          0.65,
          0.66,
          0.67,
          0.68,
          0.6900000000000001,
          0.7000000000000001,
          0.71,
          0.72,
          0.73,
          0.74,
          0.75,
          0.76,
          0.77,
          0.78,
          0.79,
          0.8,
          0.81,
          0.8200000000000001,
          0.8300000000000001,
          0.84,
          0.85,
          0.86,
          0.87,
          0.88,
          0.89,
          0.9,
          0.91,
          0.92,
          0.93,
          0.9400000000000001,
          0.9500000000000001,
          0.96,
          0.97,
          0.98,
          0.99,
          1,
          1.01,
          1.02,
          1.03,
          1.04,
          1.05,
          1.06,
          1.07,
          1.08,
          1.09,
          1.1,
          1.11,
          1.12,
          1.1300000000000001,
          1.1400000000000001,
          1.1500000000000001,
          1.16,
          1.17,
          1.18,
          1.19,
          1.2,
          1.21,
          1.22,
          1.23,
          1.24,
          1.25,
          1.26,
          1.27,
          1.28,
          1.29,
          1.3,
          1.31,
          1.32,
          1.33,
          1.34,
          1.35,
          1.36,
          1.37,
          1.3800000000000001,
          1.3900000000000001,
          1.4000000000000001,
          1.41,
          1.42,
          1.43,
          1.44,
          1.45,
          1.46,
          1.47,
          1.48,
          1.49,
          1.5,
          1.51,
          1.52,
          1.53,
          1.54,
          1.55,
          1.56,
          1.57,
          1.58,
          1.59,
          1.6,
          1.61,
          1.62,
          1.6300000000000001,
          1.6400000000000001,
          1.6500000000000001,
          1.6600000000000001,
          1.67,
          1.68,
          1.69,
          1.7,
          1.71,
          1.72,
          1.73,
          1.74,
          1.75,
          1.76,
          1.77,
          1.78,
          1.79,
          1.8,
          1.81,
          1.82,
          1.83,
          1.84,
          1.85,
          1.86,
          1.87,
          1.8800000000000001,
          1.8900000000000001,
          1.9000000000000001,
          1.9100000000000001,
          1.92,
          1.93,
          1.94,
          1.95,
          1.96,
          1.97,
          1.98,
          1.99,
          2,
          2.0100000000000002,
          2.02,
          2.0300000000000002,
          2.04,
          2.05,
          2.06,
          2.07,
          2.08,
          2.09,
          2.1,
          2.11,
          2.12,
          2.13,
          2.14,
          2.15,
          2.16,
          2.17,
          2.18,
          2.19,
          2.2,
          2.21,
          2.22,
          2.23,
          2.24,
          2.25,
          2.2600000000000002,
          2.27,
          2.2800000000000002,
          2.29,
          2.3000000000000003,
          2.31,
          2.32,
          2.33,
          2.34,
          2.35,
          2.36,
          2.37,
          2.38,
          2.39,
          2.4,
          2.41,
          2.42,
          2.43,
          2.44,
          2.45,
          2.46,
          2.47,
          2.48,
          2.49,
          2.5,
          2.5100000000000002,
          2.52,
          2.5300000000000002,
          2.54,
          2.5500000000000003,
          2.56,
          2.57,
          2.58,
          2.59,
          2.6,
          2.61,
          2.62,
          2.63,
          2.64,
          2.65,
          2.66,
          2.67,
          2.68,
          2.69,
          2.7,
          2.71,
          2.72,
          2.73,
          2.74,
          2.75,
          2.7600000000000002,
          2.77,
          2.7800000000000002,
          2.79,
          2.8000000000000003,
          2.81,
          2.82,
          2.83,
          2.84,
          2.85,
          2.86,
          2.87,
          2.88,
          2.89,
          2.9,
          2.91,
          2.92,
          2.93,
          2.94,
          2.95,
          2.96,
          2.97,
          2.98,
          2.99,
          3,
          3.0100000000000002,
          3.02,
          3.0300000000000002,
          3.04,
          3.0500000000000003,
          3.06,
          3.0700000000000003,
          3.08,
          3.09,
          3.1,
          3.11,
          3.12,
          3.13,
          3.14,
          3.15,
          3.16,
          3.17,
          3.18,
          3.19,
          3.2,
          3.21,
          3.22,
          3.23,
          3.24,
          3.25,
          3.2600000000000002,
          3.27,
          3.2800000000000002,
          3.29,
          3.3000000000000003,
          3.31,
          3.3200000000000003,
          3.33,
          3.34,
          3.35,
          3.36,
          3.37,
          3.38,
          3.39,
          3.4,
          3.41,
          3.42,
          3.43,
          3.44,
          3.45,
          3.46,
          3.47,
          3.48,
          3.49,
          3.5,
          3.5100000000000002,
          3.52,
          3.5300000000000002,
          3.54,
          3.5500000000000003,
          3.56,
          3.5700000000000003,
          3.58,
          3.59,
          3.6,
          3.61,
          3.62,
          3.63,
          3.64,
          3.65,
          3.66,
          3.67,
          3.68,
          3.69,
          3.7,
          3.71,
          3.72,
          3.73,
          3.74,
          3.75,
          3.7600000000000002,
          3.77,
          3.7800000000000002,
          3.79,
          3.8000000000000003,
          3.81,
          3.8200000000000003,
          3.83,
          3.84,
          3.85,
          3.86,
          3.87,
          3.88,
          3.89,
          3.9,
          3.91,
          3.92,
          3.93,
          3.94,
          3.95,
          3.96,
          3.97,
          3.98,
          3.99,
          4,
          4.01,
          4.0200000000000005,
          4.03,
          4.04,
          4.05,
          4.0600000000000005,
          4.07,
          4.08,
          4.09,
          4.1,
          4.11,
          4.12,
          4.13,
          4.14,
          4.15,
          4.16,
          4.17,
          4.18,
          4.19,
          4.2,
          4.21,
          4.22,
          4.23,
          4.24,
          4.25,
          4.26,
          4.2700000000000005,
          4.28,
          4.29,
          4.3,
          4.3100000000000005,
          4.32,
          4.33,
          4.34,
          4.3500000000000005,
          4.36,
          4.37,
          4.38,
          4.39,
          4.4,
          4.41,
          4.42,
          4.43,
          4.44,
          4.45,
          4.46,
          4.47,
          4.48,
          4.49,
          4.5,
          4.51,
          4.5200000000000005,
          4.53,
          4.54,
          4.55,
          4.5600000000000005,
          4.57,
          4.58,
          4.59,
          4.6000000000000005,
          4.61,
          4.62,
          4.63,
          4.64,
          4.65,
          4.66,
          4.67,
          4.68,
          4.69,
          4.7,
          4.71,
          4.72,
          4.73,
          4.74,
          4.75,
          4.76,
          4.7700000000000005,
          4.78,
          4.79,
          4.8,
          4.8100000000000005,
          4.82,
          4.83,
          4.84,
          4.8500000000000005,
          4.86,
          4.87,
          4.88,
          4.89,
          4.9,
          4.91,
          4.92,
          4.93,
          4.94,
          4.95,
          4.96,
          4.97,
          4.98,
          4.99,
          5,
          5.01,
          5.0200000000000005,
          5.03,
          5.04,
          5.05,
          5.0600000000000005,
          5.07,
          5.08,
          5.09,
          5.1000000000000005,
          5.11,
          5.12,
          5.13,
          5.14,
          5.15,
          5.16,
          5.17,
          5.18,
          5.19,
          5.2,
          5.21,
          5.22,
          5.23,
          5.24,
          5.25,
          5.26,
          5.2700000000000005,
          5.28,
          5.29,
          5.3,
          5.3100000000000005,
          5.32,
          5.33,
          5.34,
          5.3500000000000005,
          5.36,
          5.37,
          5.38,
          5.39,
          5.4,
          5.41,
          5.42,
          5.43,
          5.44,
          5.45,
          5.46,
          5.47,
          5.48,
          5.49,
          5.5,
          5.51,
          5.5200000000000005,
          5.53,
          5.54,
          5.55,
          5.5600000000000005,
          5.57,
          5.58,
          5.59,
          5.6000000000000005,
          5.61,
          5.62,
          5.63,
          5.64,
          5.65,
          5.66,
          5.67,
          5.68,
          5.69,
          5.7,
          5.71,
          5.72,
          5.73,
          5.74,
          5.75,
          5.76,
          5.7700000000000005,
          5.78,
          5.79,
          5.8,
          5.8100000000000005,
          5.82,
          5.83,
          5.84,
          5.8500000000000005,
          5.86,
          5.87,
          5.88,
          5.89,
          5.9,
          5.91,
          5.92,
          5.93,
          5.94,
          5.95,
          5.96,
          5.97,
          5.98,
          5.99,
          6,
          6.01,
          6.0200000000000005,
          6.03,
          6.04,
          6.05,
          6.0600000000000005,
          6.07,
          6.08,
          6.09,
          6.1000000000000005,
          6.11,
          6.12,
          6.13,
          6.140000000000001,
          6.15,
          6.16,
          6.17,
          6.18,
          6.19,
          6.2,
          6.21,
          6.22,
          6.23,
          6.24,
          6.25,
          6.26,
          6.2700000000000005,
          6.28,
          6.29,
          6.3,
          6.3100000000000005,
          6.32,
          6.33,
          6.34,
          6.3500000000000005,
          6.36,
          6.37,
          6.38,
          6.390000000000001,
          6.4,
          6.41,
          6.42,
          6.43,
          6.44,
          6.45,
          6.46,
          6.47,
          6.48,
          6.49,
          6.5,
          6.51,
          6.5200000000000005,
          6.53,
          6.54,
          6.55,
          6.5600000000000005,
          6.57,
          6.58,
          6.59,
          6.6000000000000005,
          6.61,
          6.62,
          6.63,
          6.640000000000001,
          6.65,
          6.66,
          6.67,
          6.68,
          6.69,
          6.7,
          6.71,
          6.72,
          6.73,
          6.74,
          6.75,
          6.76,
          6.7700000000000005,
          6.78,
          6.79,
          6.8,
          6.8100000000000005,
          6.82,
          6.83,
          6.84,
          6.8500000000000005,
          6.86,
          6.87,
          6.88,
          6.890000000000001,
          6.9,
          6.91,
          6.92,
          6.93,
          6.94,
          6.95,
          6.96,
          6.97,
          6.98,
          6.99,
          7,
          7.01,
          7.0200000000000005,
          7.03,
          7.04,
          7.05,
          7.0600000000000005,
          7.07,
          7.08,
          7.09,
          7.1000000000000005,
          7.11,
          7.12,
          7.13,
          7.140000000000001,
          7.15,
          7.16,
          7.17,
          7.18,
          7.19,
          7.2,
          7.21,
          7.22,
          7.23,
          7.24,
          7.25,
          7.26,
          7.2700000000000005,
          7.28,
          7.29,
          7.3,
          7.3100000000000005,
          7.32,
          7.33,
          7.34,
          7.3500000000000005,
          7.36,
          7.37,
          7.38,
          7.390000000000001,
          7.4,
          7.41,
          7.42,
          7.43,
          7.44,
          7.45,
          7.46,
          7.47,
          7.48,
          7.49,
          7.5,
          7.51,
          7.5200000000000005,
          7.53,
          7.54,
          7.55,
          7.5600000000000005,
          7.57,
          7.58,
          7.59,
          7.6000000000000005,
          7.61,
          7.62,
          7.63,
          7.640000000000001,
          7.65,
          7.66,
          7.67,
          7.68,
          7.69,
          7.7,
          7.71,
          7.72,
          7.73,
          7.74,
          7.75,
          7.76,
          7.7700000000000005,
          7.78,
          7.79,
          7.8,
          7.8100000000000005,
          7.82,
          7.83,
          7.84,
          7.8500000000000005,
          7.86,
          7.87,
          7.88,
          7.890000000000001,
          7.9,
          7.91,
          7.92,
          7.930000000000001,
          7.94,
          7.95,
          7.96,
          7.97,
          7.98,
          7.99,
          8,
          8.01,
          8.02,
          8.03,
          8.040000000000001,
          8.05,
          8.06,
          8.07,
          8.08,
          8.09,
          8.1,
          8.11,
          8.120000000000001,
          8.13,
          8.14,
          8.15,
          8.16,
          8.17,
          8.18,
          8.19,
          8.2,
          8.21,
          8.22,
          8.23,
          8.24,
          8.25,
          8.26,
          8.27,
          8.28,
          8.290000000000001,
          8.3,
          8.31,
          8.32,
          8.33,
          8.34,
          8.35,
          8.36,
          8.370000000000001,
          8.38,
          8.39,
          8.4,
          8.41,
          8.42,
          8.43,
          8.44,
          8.45,
          8.46,
          8.47,
          8.48,
          8.49,
          8.5,
          8.51,
          8.52,
          8.53,
          8.540000000000001,
          8.55,
          8.56,
          8.57,
          8.58,
          8.59,
          8.6,
          8.61,
          8.620000000000001,
          8.63,
          8.64,
          8.65,
          8.66,
          8.67,
          8.68,
          8.69,
          8.700000000000001,
          8.71,
          8.72,
          8.73,
          8.74,
          8.75,
          8.76,
          8.77,
          8.78,
          8.790000000000001,
          8.8,
          8.81,
          8.82,
          8.83,
          8.84,
          8.85,
          8.86,
          8.870000000000001,
          8.88,
          8.89,
          8.9,
          8.91,
          8.92,
          8.93,
          8.94,
          8.950000000000001,
          8.96,
          8.97,
          8.98,
          8.99,
          9,
          9.01,
          9.02,
          9.03,
          9.040000000000001,
          9.05,
          9.06,
          9.07,
          9.08,
          9.09,
          9.1,
          9.11,
          9.120000000000001,
          9.13,
          9.14,
          9.15,
          9.16,
          9.17,
          9.18,
          9.19,
          9.200000000000001,
          9.21,
          9.22,
          9.23,
          9.24,
          9.25,
          9.26,
          9.27,
          9.28,
          9.290000000000001,
          9.3,
          9.31,
          9.32,
          9.33,
          9.34,
          9.35,
          9.36,
          9.370000000000001,
          9.38,
          9.39,
          9.4,
          9.41,
          9.42,
          9.43,
          9.44,
          9.450000000000001,
          9.46,
          9.47,
          9.48,
          9.49,
          9.5,
          9.51,
          9.52,
          9.53,
          9.540000000000001,
          9.55,
          9.56,
          9.57,
          9.58,
          9.59,
          9.6,
          9.61,
          9.620000000000001,
          9.63,
          9.64,
          9.65,
          9.66,
          9.67,
          9.68,
          9.69,
          9.700000000000001,
          9.71,
          9.72,
          9.73,
          9.74,
          9.75,
          9.76,
          9.77,
          9.78,
          9.790000000000001,
          9.8,
          9.81,
          9.82,
          9.83,
          9.84,
          9.85,
          9.86,
          9.870000000000001,
          9.88,
          9.89,
          9.9,
          9.91,
          9.92,
          9.93,
          9.94,
          9.950000000000001,
          9.96,
          9.97,
          9.98,
          9.99
         ],
         "xaxis": "x",
         "y": [
          0.08726646259971647,
          0.0874124922967275,
          0.0878510691791911,
          0.08858365943736793,
          0.08961268213510226,
          0.09094110118574536,
          0.0925733025091752,
          0.09451495690950572,
          0.0967727959366164,
          0.09935461188615222,
          0.10226925779952367,
          0.10552664746390678,
          0.10913775541224302,
          0.11311461692323949,
          0.11747032802136868,
          0.1222190454768687,
          0.1273759868057431,
          0.13295743026976098,
          0.13898143978635655,
          0.14546885486569106,
          0.15244047813375944,
          0.15991900265797102,
          0.1679291498862654,
          0.1764976696471125,
          0.18565334014951262,
          0.19542696798299636,
          0.20585138811762466,
          0.21696146390398874,
          0.22879408707321025,
          0.24138817773694105,
          0.2547846843873635,
          0.2690265838971901,
          0.28415888151966384,
          0.3002286108885579,
          0.31728483401817587,
          0.33537864130335177,
          0.35456301563974774,
          0.37489456638859053,
          0.3964396192777438,
          0.4192679413590512,
          0.4434515363443906,
          0.4690646446056739,
          0.49618374317484687,
          0.52488754574389,
          0.5552570026648173,
          0.5873753009496769,
          0.6213278642705518,
          0.6572023529595576,
          0.6950886640088453,
          0.7350789310706,
          0.77726752445704,
          0.8217510511404185,
          0.868628354753022,
          0.9179810831054804,
          0.9699010907831651,
          1.0245055576110829,
          1.0819008944635502,
          1.1421826389854801,
          1.2054354555923812,
          1.27173313547036,
          1.341138596576118,
          1.4137038836369533,
          1.4894701681507603,
          1.56846774838603,
          1.6507160493818493,
          1.7362236229479016,
          1.8249881476644665,
          1.9170001242679309,
          2.0122151696199433,
          2.1105102365288566,
          2.2117295443270035,
          2.315687939492033,
          2.4221708956469126,
          2.530934513559923,
          2.641705521144661,
          2.7541812734600404,
          2.868029752710291,
          2.982889568244957,
          3.0983699565589005,
          3.2140507812922983,
          3.3294825332306437,
          3.444188900922096,
          3.557751546524308,
          3.669823066248453,
          3.7800815614548764,
          3.888236334277197,
          3.9940278876223,
          4.09722792517034,
          4.197639351374742,
          4.2950962714622,
          4.389463991432679,
          4.48063901805941,
          4.5685490588888955,
          4.653153022240907,
          4.734441878004971,
          4.81245084365779,
          4.887223525106824,
          4.95880574422124,
          5.027250386872068,
          5.09261740293221,
          5.154973806276439,
          5.214393674781396,
          5.270958150325593,
          5.3247554387894125,
          5.375880810055105,
          5.424436598006793,
          5.470533898867535,
          5.514290636857957,
          5.555795485083863,
          5.595131807447169,
          5.632382417065699,
          5.667629576273172,
          5.700954996619207,
          5.7324398388693245,
          5.7621647130049425,
          5.7902096782233805,
          5.816654242937856,
          5.841577364777487,
          5.865057450587293,
          5.88717235642819,
          5.907999387576994,
          5.9276152985264225,
          5.946096292985093,
          5.963517765918678,
          5.979927577652095,
          5.99535780606204,
          6.009847813559386,
          6.0234359772538575,
          6.0361596889540285,
          6.048055355167328,
          6.059158397100034,
          6.0695032506572755,
          6.079123366443034,
          6.088051209760142,
          6.096318260610284,
          6.103955013693994,
          6.110990978410662,
          6.117454678858524,
          6.123373653834668,
          6.128774456835039,
          6.133682579487028,
          6.138107820463564,
          6.142054064290884,
          6.145531402273621,
          6.148548936495291,
          6.151114779818285,
          6.153236055883878,
          6.154918899112219,
          6.156168454702339,
          6.156988878632149,
          6.157383337658438,
          6.157354009316875,
          6.1569020819220075,
          6.156027754567263,
          6.154730237124948,
          6.153007750246248,
          6.150857525361228,
          6.148270945118705,
          6.145235008140845,
          6.141739337148499,
          6.137771940659231,
          6.133319207426484,
          6.12836590643958,
          6.122895186923716,
          6.116888578339972,
          6.110325990385301,
          6.103185712992539,
          6.0954444163303965,
          6.087077150803465,
          6.07805734705221,
          6.068356815952983,
          6.057945748618005,
          6.046792536664253,
          6.034861453799004,
          6.02211285455111,
          6.008504377522506,
          5.993990960166371,
          5.978524838787125,
          5.962055548540437,
          5.944529923433217,
          5.925892096323619,
          5.906083498921039,
          5.885042861786121,
          5.862706214330751,
          5.8390068848180565,
          5.813875500362414,
          5.787239986929439,
          5.759025569335993,
          5.729154771250183,
          5.697547415191357,
          5.664120622530108,
          5.628795702919753,
          5.591491033453888,
          5.552096425587266,
          5.510503917918132,
          5.46660919393258,
          5.420311582004554,
          5.371514055395846,
          5.320123232256098,
          5.266049375622801,
          5.209206393421295,
          5.149511838464767,
          5.086886908454261,
          5.021256445978659,
          4.952548938514702,
          4.880696518426974,
          4.805634962967907,
          4.727332068940379,
          4.645777632457953,
          4.560942920157433,
          4.472831031688255,
          4.381477444452137,
          4.286950013603042,
          4.189348972047219,
          4.088806930443157,
          3.9854888772016337,
          3.879592178485668,
          3.7713465782105633,
          3.661014198043868,
          3.5488895374054152,
          3.4352995215805016,
          3.3206238412684295,
          3.2053063805122775,
          3.0897838492979286,
          2.9744748581528264,
          2.8597799181460175,
          2.7460814408881107,
          2.633743738531316,
          2.523113023769408,
          2.4145174098377606,
          2.3082669105133116,
          2.2046518903129653,
          2.103857268137422,
          2.0060006315896195,
          1.9111957365245553,
          1.8195334565677677,
          1.7310817831153682,
          1.6458858253340103,
          1.56396781016092,
          1.4853270823038658,
          1.4099401042411883,
          1.337760456221771,
          1.2687324920301297,
          1.2027979812409941,
          1.1398826619538538,
          1.0799088004014958,
          1.022795235601804,
          0.9684573793577369,
          0.9168072162573495,
          0.8677533036737728,
          0.8212007717652328,
          0.7770513234750323,
          0.7352032345315683,
          0.6955513534483162,
          0.6579818999056656,
          0.6223883889594083,
          0.5886941753153883,
          0.5568244992660469,
          0.5267054353022973,
          0.4982638921135286,
          0.47142761258759647,
          0.44612517381083305,
          0.4222859870680378,
          0.3998402978424862,
          0.3787191858159214,
          0.35885456486856215,
          0.3401791830790954,
          0.3226266227246833,
          0.30613130028095625,
          0.2906284664220199,
          0.2760542060204485,
          0.26234629578704494,
          0.24947617834665986,
          0.23742047150611878,
          0.22614700109130362,
          0.21562462910695415,
          0.20582325373666382,
          0.19671380934288357,
          0.18826826646691835,
          0.18045963182893032,
          0.1732619483279359,
          0.16665029504180845,
          0.16060078722727616,
          0.15509057631992285,
          0.1500978499341888,
          0.14560183186336906,
          0.14158278207961525,
          0.13802199673393364,
          0.1349096562994479,
          0.13224394680189816,
          0.13001820440363365,
          0.12822681650225168,
          0.12686523193936558,
          0.12592996100060416,
          0.12541857541561208,
          0.12532970835804969,
          0.12566305444559292,
          0.1264193697399336,
          0.12760047174677905,
          0.12920923941585252,
          0.13124961314089273,
          0.13372659475965434,
          0.13664624755390745,
          0.14001653351588997,
          0.14385255178862463,
          0.14816795811970998,
          0.15297718899117915,
          0.15829644260259787,
          0.1641436788710628,
          0.17053861943120308,
          0.17750274763517981,
          0.18505930855268501,
          0.1932333089709437,
          0.2020515173947114,
          0.21154246404627694,
          0.22173644086545932,
          0.23266550150961118,
          0.244363461353615,
          0.2568646886590943,
          0.2702072532152669,
          0.2844361348099516,
          0.29959905538317133,
          0.3157464041298972,
          0.3329312375000429,
          0.35120927919847056,
          0.3706389201849846,
          0.3912812186743384,
          0.41319990013622687,
          0.43646135729529445,
          0.461134650131127,
          0.48729150587825976,
          0.5150063190261693,
          0.5443561513192823,
          0.5754207317569657,
          0.608282456593536,
          0.6430263893382551,
          0.6797402607553257,
          0.718512993232897,
          0.7594239293478954,
          0.8025810782022929,
          0.8480960158150179,
          0.8960749379573755,
          0.9466186601530302,
          0.9998226176780243,
          1.055776865560759,
          1.1145660785820128,
          1.1762695512749244,
          1.2409611979250095,
          1.308709552570142,
          1.379577769000576,
          1.453623620758921,
          1.5308995011401685,
          1.611447438361495,
          1.695268927316096,
          1.782366688736144,
          1.8727173136130453,
          1.9662643064117282,
          2.062918085070677,
          2.162555981001898,
          2.2650222390909494,
          2.3701280176969286,
          2.4776513886524576,
          2.587337337263717,
          2.698897762310408,
          2.812011476045787,
          2.926324204196632,
          3.0414485859632814,
          3.156961063031581,
          3.272403380812591,
          3.387341342456615,
          3.5013714238665856,
          3.6141197102940805,
          3.7252418963393614,
          3.834423285951336,
          3.941378792427594,
          4.045852938414372,
          4.147619855906589,
          4.246483286247813,
          4.34227658013029,
          4.434877258569569,
          4.524259725374334,
          4.610399829739122,
          4.693282980897365,
          4.77290811101509,
          4.8492876751909435,
          4.922447651456182,
          4.992427540774662,
          5.059280367042859,
          5.123072677089851,
          5.183884540677333,
          5.241809534508606,
          5.29694295055898,
          5.349373001748911,
          5.399191027809586,
          5.446488515779016,
          5.491357100002064,
          5.533888562130416,
          5.574174831122606,
          5.612307983243995,
          5.648380242066791,
          5.682483978470031,
          5.714711710639594,
          5.745156104068195,
          5.773909971555382,
          5.801066287203361,
          5.826713476447808,
          5.85091801674131,
          5.873739752992646,
          5.895237274816947,
          5.915467916535686,
          5.934487757176682,
          5.952351620474102,
          5.969113074868448,
          5.98482443350658,
          5.999536754241694,
          6.013299839633337,
          6.026162236947395,
          6.038171238156104,
          6.049372879938044,
          6.05981194367814,
          6.06953195546766,
          6.078570547259307,
          6.086942390695639,
          6.094667752824705,
          6.101767322744333,
          6.108260753889776,
          6.114166664033704,
          6.11950263528621,
          6.124285214094808,
          6.128529911244436,
          6.132251201857448,
          6.135462525393624,
          6.138176285650164,
          6.140403850761686,
          6.142155553200235,
          6.1434406897752725,
          6.144267521633684,
          6.144642765530486,
          6.144561777347221,
          6.1440201998439266,
          6.143015038371947,
          6.141541892114631,
          6.139594954087338,
          6.137167011137435,
          6.134249443944297,
          6.130832227019311,
          6.126903928705866,
          6.122451711179368,
          6.117461330447222,
          6.1119171363488505,
          6.1058020725556785,
          6.099097676571142,
          6.091784079730683,
          6.08383892465653,
          6.07523332529639,
          6.065938806191347,
          6.055924854901547,
          6.0451584184330365,
          6.033603903237754,
          6.021223175213538,
          6.007975559704121,
          5.993817841499137,
          5.978704264834112,
          5.962586533390472,
          5.945413810295537,
          5.9271327181225235,
          5.907687338890551,
          5.887019214064629,
          5.8650673445556665,
          5.841768190720465,
          5.817056077994205,
          5.790867196117949,
          5.763120444420595,
          5.733728769696536,
          5.702604397258354,
          5.669658830936801,
          5.634802853080814,
          5.597946524557502,
          5.558999184752166,
          5.517869451568276,
          5.474465221427487,
          5.428693669269626,
          5.380461248552713,
          5.329673691252936,
          5.276236007864666,
          5.220052487400449,
          5.1610286740987945,
          5.099101803468602,
          5.034180780475494,
          4.9661747965106535,
          4.8950110819065,
          4.820634905936709,
          4.743009576816183,
          4.66211644170107,
          4.577954886688752,
          4.490542336817876,
          4.399914256068308,
          4.306124147361161,
          4.209243552558783,
          4.109362660586433,
          4.006623476789214,
          3.9012377765977115,
          3.7934488628907226,
          3.683528683544516,
          3.571777831432774,
          3.4585255444266325,
          3.3441297053946584,
          3.2289768422028926,
          3.1134821277147884,
          2.9980893797912516,
          2.883250459327547,
          2.7693620419327094,
          2.6568043391640943,
          2.5459248980859854,
          2.4370373540026478,
          2.3304214304583186,
          2.226322939237246,
          2.1249537803636303,
          2.0264919421016643,
          1.9310815009555127,
          1.838832615646862,
          1.7498139909344343,
          1.6640492948211607,
          1.5815459876977784,
          1.502299482972902,
          1.4262931470729778,
          1.353498299442316,
          1.2838742125430749,
          1.2173681118552868,
          1.1539151758768202,
          1.0934385361234056,
          1.035849277128622,
          0.9810467880064123,
          0.928932194424588,
          0.8794147712980058,
          0.8324037453751555,
          0.7878085178539511,
          0.7455386643817064,
          0.7055039350551506,
          0.6676142544204263,
          0.631779721473084,
          0.5979106096580962,
          0.5659173668698373,
          0.5357106154520976,
          0.5072011521980768,
          0.4802999483503937,
          0.4549181496010726,
          0.4309678781810676,
          0.40837830275570486,
          0.38709383795750313,
          0.3670604187455013,
          0.34822522949587487,
          0.3305367040019322,
          0.3139445254741209,
          0.2983996265400183,
          0.2838541892443379,
          0.2702616450489266,
          0.2575766748327693,
          0.24575520889198182,
          0.23475442693981566,
          0.22453275810665596,
          0.21504988094002522,
          0.20626672340457752,
          0.19814546288210258,
          0.19066049921577183,
          0.18380200020990045,
          0.1775518728006173,
          0.17189304660012214,
          0.16680957751689782,
          0.16228664775570933,
          0.1583105658176053,
          0.1548687664999156,
          0.15194981089625303,
          0.14954338639651268,
          0.1476403066868727,
          0.1462325117497931,
          0.14531306786401654,
          0.14487616760456826,
          0.14491712984275587,
          0.14543244177785347,
          0.14642673923458263,
          0.14790778688476838,
          0.14988137731301934,
          0.15235488323234125,
          0.15533725748413643,
          0.15883903303820412,
          0.1628723229927394,
          0.1674508205743348,
          0.17258979913797928,
          0.17830611216705855,
          0.18461819327335544,
          0.19154605619704784,
          0.19911129480671197,
          0.20733708309932014,
          0.21624817520024214,
          0.22587232855854644,
          0.23624227811087822,
          0.24739217051391477,
          0.25935880174153353,
          0.2721816621398335,
          0.2859029364271414,
          0.3005675036940077,
          0.31622293740320906,
          0.33291950538974246,
          0.3507101698608339,
          0.3696505873959326,
          0.3897991089467144,
          0.4112167798370744,
          0.4339673397631375,
          0.4581172227932522,
          0.48373555736799323,
          0.5108941663001536,
          0.5396675667747578,
          0.5701245991469005,
          0.6023372022921428,
          0.6364089304556932,
          0.6724426381235767,
          0.7105392162652895,
          0.7507975923338019,
          0.793314730265563,
          0.8381856304804841,
          0.8855033298819623,
          0.9353589018568653,
          0.9878414562755395,
          1.0430381394917918,
          1.1010341343429173,
          1.1619126601496805,
          1.2257549727163262,
          1.2926403643305562,
          1.3626461637635634,
          1.4358354934496849,
          1.5122222651192343,
          1.591861445438866,
          1.674787613632587,
          1.7610054180666015,
          1.850489576249327,
          1.9431848748313598,
          2.0390061696055266,
          2.1378383855068472,
          2.2395365166125583,
          2.3439256261420716,
          2.45080084645703,
          2.5599273790612727,
          2.67104049460263,
          2.783829675480635,
          2.8978945152977347,
          3.0128172087702043,
          3.1281855423245783,
          3.2435928940976755,
          3.3586382339365537,
          3.4729261233985733,
          3.5860667157513575,
          3.6976757559728095,
          3.8073745807510746,
          3.91483314349926,
          4.019835308411959,
          4.122175030407035,
          4.221675548669479,
          4.318190057870196,
          4.41160170816597,
          4.50182360519948,
          4.588798810099264,
          4.672500339479777,
          4.752930248697745,
          4.830098685073929,
          4.904038896281623,
          4.974798697794665,
          5.042432962457814,
          5.107003620486749,
          5.168579659468086,
          5.227237124359347,
          5.283059117489,
          5.33613579855643,
          5.386564384631955,
          5.4344491501568015,
          5.479907141334459,
          5.523039473992356,
          5.563930796776081,
          5.6026651676344565,
          5.63932605467994,
          5.673996336188605,
          5.706758300600145,
          5.737693646517871,
          5.766883482708722,
          5.794408328103253,
          5.820348111795642,
          5.844782173043684,
          5.867789261268799,
          5.889447536056026,
          5.909834567154029,
          5.929027334475082,
          5.947102228095092,
          5.964116063018989,
          5.980102148351543,
          5.9951009202419,
          6.009151752823837,
          6.022292957603468,
          6.034561783459237,
          6.045994416641927,
          6.056625980774648,
          6.066490536852848,
          6.07562108324431,
          6.084049555689148,
          6.091806827299808,
          6.098922708561075,
          6.105425947330064,
          6.111344228836224,
          6.116704175681338,
          6.1215313478395235,
          6.125836880997736,
          6.129622313749497,
          6.132897452089718,
          6.135670938840742,
          6.137950253414424,
          6.13974171181213,
          6.141050466624743,
          6.141880507032659,
          6.142234658805786,
          6.142114584303548,
          6.141520782474879,
          6.14045258885823,
          6.138908175581564,
          6.136884551362358,
          6.134377561507601,
          6.131380608778478,
          6.127879226459417,
          6.123860836319541,
          6.119311804460976,
          6.114216660113914,
          6.108558095636621,
          6.102316966515433,
          6.095472291364755,
          6.088001251927068,
          6.079879193072918,
          6.071079622800924,
          6.061574212237774,
          6.051332795638233,
          6.040323370385129,
          6.028512096989365,
          6.01586383670002,
          6.002340904417484,
          5.987898006112516,
          5.9724867386520355,
          5.956056008145839,
          5.938552029946601,
          5.919918328649881,
          5.9000957380941115,
          5.879022401360607,
          5.856633770773558,
          5.832862607900042,
          5.807638983550008,
          5.780890277776288,
          5.752541179874589,
          5.722513688383505,
          5.690727111084502,
          5.6570980650019305,
          5.621540476403011,
          5.583965580797858,
          5.544286480559803,
          5.502423042493305,
          5.458262415307982,
          5.4116931553965,
          5.362609711656069,
          5.310912425488466,
          5.256507530800022,
          5.199307154001641,
          5.139229314008777,
          5.076197922241444,
          5.010142782624218,
          4.9409995915862295,
          4.868709938061186,
          4.793221303487338,
          4.714487061807501,
          4.632469392188701,
          4.547166269935114,
          4.45859095026706,
          4.366784537351393,
          4.271820822937756,
          4.173806286358615,
          4.072880094529206,
          3.969214101947573,
          3.863012850694544,
          3.7545135704337738,
          3.6439861784116863,
          3.5317332794575105,
          3.418090165983263,
          3.303424817983788,
          3.1881379030366945,
          3.072663032566509,
          2.9574564312839633,
          2.842945561574257,
          2.729523998756625,
          2.6175540077394204,
          2.5073665430200944,
          2.3992612486852356,
          2.293506458410511,
          2.1903391954607057,
          2.0899651726897117,
          1.992558792540521,
          1.8982631470452602,
          1.807188647063727,
          1.7193705883875425,
          1.6348128326801774,
          1.5535172897881275,
          1.4754741712817572,
          1.4006619904553528,
          1.3290475623270415,
          1.2605860036388465,
          1.1952207328566722,
          1.1328834701703054,
          1.0734942374934149,
          1.0169613584635506,
          0.9631821743413599,
          0.9120577590489718,
          0.8634977331389262,
          0.8174121208366483,
          0.773711174722101,
          0.7323053757297848,
          0.6931054331487372,
          0.6560222846225335,
          0.6209670961492861,
          0.5878512620816396,
          0.556586405126793,
          0.5270843763464653,
          0.4992572551569187,
          0.473017349328953,
          0.4482771949879055,
          0.4249497231410625,
          0.4029621149054782,
          0.3822607246335868,
          0.3627934582666761,
          0.34450948005366355,
          0.32735921255111117,
          0.3112943366232218,
          0.29626779144183923,
          0.28223377448644776,
          0.26914774154417287,
          0.25696640670977855,
          0.24564774238567605,
          0.23515097928191095,
          0.22543660641617183,
          0.21646637111378808,
          0.20820327900773006,
          0.20061159403860862,
          0.19366097141680572,
          0.1873437050834321,
          0.18164531833175523,
          0.17655063963002346,
          0.1720457149231391,
          0.1681178076326627,
          0.16475539865681194,
          0.1619481863704615,
          0.1596870866251432,
          0.15796423274904603,
          0.15677297554701583,
          0.15610788330055622,
          0.15596474176782715,
          0.15634055418364598,
          0.15723354125948721,
          0.15864314118348238,
          0.16057317112175282,
          0.16303633221995967,
          0.16604178695460278,
          0.1696001595711466,
          0.17372388987850543,
          0.17842723324904133,
          0.18372626061856473,
          0.18963885848633422,
          0.19618472891505678,
          0.20338538953088758,
          0.2112641735234316,
          0.21984622964573783,
          0.22915852221430763,
          0.2392298311090893,
          0.25009075177347956,
          0.26177369106688014,
          0.2743150972520033,
          0.287756820065863,
          0.30214362491865965,
          0.3175230362393059,
          0.3339453374754148,
          0.3514635710933169,
          0.3701335385780491,
          0.3900138004333573,
          0.4111656761816965,
          0.4336532443642311,
          0.457543342540834,
          0.48290556729009226,
          0.5098122742092883,
          0.538338577914427,
          0.5685623520402177,
          0.6005642292400794,
          0.6344276011861394,
          0.6702386185692348,
          0.7080742589870851,
          0.7480286830595695,
          0.7902132264664126,
          0.8347348051619357,
          0.8816959146374446,
          0.9311946299212355,
          0.9833246055785956,
          1.0381750757118033,
          1.095830853960127,
          1.1563723334998268,
          1.219875487044165,
          1.28641186684336,
          1.3560486046846558,
          1.4288484118922749,
          1.5048695793274314,
          1.5841517288900964,
          1.666699196324997,
          1.7525277290793264,
          1.841622997085389,
          1.9339380733731655,
          2.029393434070407,
          2.127876958402574,
          2.2292439286928483,
          2.3333170303621373,
          2.4398863519290708,
          2.548709385010002,
          2.6595110243190296,
          2.7719835676679137,
          2.8857867159661983,
          3.000547573221132,
          3.115858027723407,
          3.231258367074502,
          3.346304288406898,
          3.460583844244055,
          3.573714091126349,
          3.6853410896110885,
          3.7951399042724407,
          3.9028146037015445,
          4.0080982605064355,
          4.1107529513120635,
          4.210569756760296,
          4.30736876150991,
          4.401005767840694,
          4.491438358776948,
          4.578640294925276,
          4.662590020461386,
          4.743279975444961,
          4.8207165958196745,
          4.894920313413191,
          4.965925555937167,
          5.033780746987247,
          5.098548306043081,
          5.160304648468273,
          5.2191401809328,
          5.275146653897921,
          5.328409828087284,
          5.379020712095947,
          5.42707061257235,
          5.472651134218305,
          5.5158541797890015,
          5.556771950093015,
          5.595496943992274,
          5.632121958402108,
          5.6667400882912125,
          5.699444726681662,
          5.7303295646489065,
          5.759488591321776,
          5.787015450112512,
          5.812985675099291,
          5.837462816238504,
          5.860508965056301,
          5.882184797884547,
          5.902549575860827,
          5.921661144928442,
          5.939575935836413,
          5.956348964139482,
          5.972033830198109,
          5.986682719178465,
          6.000346401052452,
          6.013074230597683,
          6.024914147397492,
          6.035912675840933,
          6.046114925122777,
          6.055556993281647,
          6.064254915453853,
          6.0722311004962375,
          6.079507142213683,
          6.086103372522465,
          6.092038861450244,
          6.097331417136072,
          6.1019975858303885,
          6.1060526518950216,
          6.109510637803188,
          6.112384304139495,
          6.114685149599937,
          6.116423410991896,
          6.117608063234144,
          6.118246819356844,
          6.118346130501544,
          6.1179047776586994,
          6.116912634450721,
          6.115366140834218,
          6.113260097068938,
          6.1105875109870045,
          6.107339597992918,
          6.103505781063554
         ],
         "yaxis": "y"
        }
       ],
       "layout": {
        "legend": {
         "tracegroupgap": 0
        },
        "margin": {
         "t": 60
        },
        "template": {
         "data": {
          "bar": [
           {
            "error_x": {
             "color": "#2a3f5f"
            },
            "error_y": {
             "color": "#2a3f5f"
            },
            "marker": {
             "line": {
              "color": "#E5ECF6",
              "width": 0.5
             },
             "pattern": {
              "fillmode": "overlay",
              "size": 10,
              "solidity": 0.2
             }
            },
            "type": "bar"
           }
          ],
          "barpolar": [
           {
            "marker": {
             "line": {
              "color": "#E5ECF6",
              "width": 0.5
             },
             "pattern": {
              "fillmode": "overlay",
              "size": 10,
              "solidity": 0.2
             }
            },
            "type": "barpolar"
           }
          ],
          "carpet": [
           {
            "aaxis": {
             "endlinecolor": "#2a3f5f",
             "gridcolor": "white",
             "linecolor": "white",
             "minorgridcolor": "white",
             "startlinecolor": "#2a3f5f"
            },
            "baxis": {
             "endlinecolor": "#2a3f5f",
             "gridcolor": "white",
             "linecolor": "white",
             "minorgridcolor": "white",
             "startlinecolor": "#2a3f5f"
            },
            "type": "carpet"
           }
          ],
          "choropleth": [
           {
            "colorbar": {
             "outlinewidth": 0,
             "ticks": ""
            },
            "type": "choropleth"
           }
          ],
          "contour": [
           {
            "colorbar": {
             "outlinewidth": 0,
             "ticks": ""
            },
            "colorscale": [
             [
              0,
              "#0d0887"
             ],
             [
              0.1111111111111111,
              "#46039f"
             ],
             [
              0.2222222222222222,
              "#7201a8"
             ],
             [
              0.3333333333333333,
              "#9c179e"
             ],
             [
              0.4444444444444444,
              "#bd3786"
             ],
             [
              0.5555555555555556,
              "#d8576b"
             ],
             [
              0.6666666666666666,
              "#ed7953"
             ],
             [
              0.7777777777777778,
              "#fb9f3a"
             ],
             [
              0.8888888888888888,
              "#fdca26"
             ],
             [
              1,
              "#f0f921"
             ]
            ],
            "type": "contour"
           }
          ],
          "contourcarpet": [
           {
            "colorbar": {
             "outlinewidth": 0,
             "ticks": ""
            },
            "type": "contourcarpet"
           }
          ],
          "heatmap": [
           {
            "colorbar": {
             "outlinewidth": 0,
             "ticks": ""
            },
            "colorscale": [
             [
              0,
              "#0d0887"
             ],
             [
              0.1111111111111111,
              "#46039f"
             ],
             [
              0.2222222222222222,
              "#7201a8"
             ],
             [
              0.3333333333333333,
              "#9c179e"
             ],
             [
              0.4444444444444444,
              "#bd3786"
             ],
             [
              0.5555555555555556,
              "#d8576b"
             ],
             [
              0.6666666666666666,
              "#ed7953"
             ],
             [
              0.7777777777777778,
              "#fb9f3a"
             ],
             [
              0.8888888888888888,
              "#fdca26"
             ],
             [
              1,
              "#f0f921"
             ]
            ],
            "type": "heatmap"
           }
          ],
          "heatmapgl": [
           {
            "colorbar": {
             "outlinewidth": 0,
             "ticks": ""
            },
            "colorscale": [
             [
              0,
              "#0d0887"
             ],
             [
              0.1111111111111111,
              "#46039f"
             ],
             [
              0.2222222222222222,
              "#7201a8"
             ],
             [
              0.3333333333333333,
              "#9c179e"
             ],
             [
              0.4444444444444444,
              "#bd3786"
             ],
             [
              0.5555555555555556,
              "#d8576b"
             ],
             [
              0.6666666666666666,
              "#ed7953"
             ],
             [
              0.7777777777777778,
              "#fb9f3a"
             ],
             [
              0.8888888888888888,
              "#fdca26"
             ],
             [
              1,
              "#f0f921"
             ]
            ],
            "type": "heatmapgl"
           }
          ],
          "histogram": [
           {
            "marker": {
             "pattern": {
              "fillmode": "overlay",
              "size": 10,
              "solidity": 0.2
             }
            },
            "type": "histogram"
           }
          ],
          "histogram2d": [
           {
            "colorbar": {
             "outlinewidth": 0,
             "ticks": ""
            },
            "colorscale": [
             [
              0,
              "#0d0887"
             ],
             [
              0.1111111111111111,
              "#46039f"
             ],
             [
              0.2222222222222222,
              "#7201a8"
             ],
             [
              0.3333333333333333,
              "#9c179e"
             ],
             [
              0.4444444444444444,
              "#bd3786"
             ],
             [
              0.5555555555555556,
              "#d8576b"
             ],
             [
              0.6666666666666666,
              "#ed7953"
             ],
             [
              0.7777777777777778,
              "#fb9f3a"
             ],
             [
              0.8888888888888888,
              "#fdca26"
             ],
             [
              1,
              "#f0f921"
             ]
            ],
            "type": "histogram2d"
           }
          ],
          "histogram2dcontour": [
           {
            "colorbar": {
             "outlinewidth": 0,
             "ticks": ""
            },
            "colorscale": [
             [
              0,
              "#0d0887"
             ],
             [
              0.1111111111111111,
              "#46039f"
             ],
             [
              0.2222222222222222,
              "#7201a8"
             ],
             [
              0.3333333333333333,
              "#9c179e"
             ],
             [
              0.4444444444444444,
              "#bd3786"
             ],
             [
              0.5555555555555556,
              "#d8576b"
             ],
             [
              0.6666666666666666,
              "#ed7953"
             ],
             [
              0.7777777777777778,
              "#fb9f3a"
             ],
             [
              0.8888888888888888,
              "#fdca26"
             ],
             [
              1,
              "#f0f921"
             ]
            ],
            "type": "histogram2dcontour"
           }
          ],
          "mesh3d": [
           {
            "colorbar": {
             "outlinewidth": 0,
             "ticks": ""
            },
            "type": "mesh3d"
           }
          ],
          "parcoords": [
           {
            "line": {
             "colorbar": {
              "outlinewidth": 0,
              "ticks": ""
             }
            },
            "type": "parcoords"
           }
          ],
          "pie": [
           {
            "automargin": true,
            "type": "pie"
           }
          ],
          "scatter": [
           {
            "fillpattern": {
             "fillmode": "overlay",
             "size": 10,
             "solidity": 0.2
            },
            "type": "scatter"
           }
          ],
          "scatter3d": [
           {
            "line": {
             "colorbar": {
              "outlinewidth": 0,
              "ticks": ""
             }
            },
            "marker": {
             "colorbar": {
              "outlinewidth": 0,
              "ticks": ""
             }
            },
            "type": "scatter3d"
           }
          ],
          "scattercarpet": [
           {
            "marker": {
             "colorbar": {
              "outlinewidth": 0,
              "ticks": ""
             }
            },
            "type": "scattercarpet"
           }
          ],
          "scattergeo": [
           {
            "marker": {
             "colorbar": {
              "outlinewidth": 0,
              "ticks": ""
             }
            },
            "type": "scattergeo"
           }
          ],
          "scattergl": [
           {
            "marker": {
             "colorbar": {
              "outlinewidth": 0,
              "ticks": ""
             }
            },
            "type": "scattergl"
           }
          ],
          "scattermapbox": [
           {
            "marker": {
             "colorbar": {
              "outlinewidth": 0,
              "ticks": ""
             }
            },
            "type": "scattermapbox"
           }
          ],
          "scatterpolar": [
           {
            "marker": {
             "colorbar": {
              "outlinewidth": 0,
              "ticks": ""
             }
            },
            "type": "scatterpolar"
           }
          ],
          "scatterpolargl": [
           {
            "marker": {
             "colorbar": {
              "outlinewidth": 0,
              "ticks": ""
             }
            },
            "type": "scatterpolargl"
           }
          ],
          "scatterternary": [
           {
            "marker": {
             "colorbar": {
              "outlinewidth": 0,
              "ticks": ""
             }
            },
            "type": "scatterternary"
           }
          ],
          "surface": [
           {
            "colorbar": {
             "outlinewidth": 0,
             "ticks": ""
            },
            "colorscale": [
             [
              0,
              "#0d0887"
             ],
             [
              0.1111111111111111,
              "#46039f"
             ],
             [
              0.2222222222222222,
              "#7201a8"
             ],
             [
              0.3333333333333333,
              "#9c179e"
             ],
             [
              0.4444444444444444,
              "#bd3786"
             ],
             [
              0.5555555555555556,
              "#d8576b"
             ],
             [
              0.6666666666666666,
              "#ed7953"
             ],
             [
              0.7777777777777778,
              "#fb9f3a"
             ],
             [
              0.8888888888888888,
              "#fdca26"
             ],
             [
              1,
              "#f0f921"
             ]
            ],
            "type": "surface"
           }
          ],
          "table": [
           {
            "cells": {
             "fill": {
              "color": "#EBF0F8"
             },
             "line": {
              "color": "white"
             }
            },
            "header": {
             "fill": {
              "color": "#C8D4E3"
             },
             "line": {
              "color": "white"
             }
            },
            "type": "table"
           }
          ]
         },
         "layout": {
          "annotationdefaults": {
           "arrowcolor": "#2a3f5f",
           "arrowhead": 0,
           "arrowwidth": 1
          },
          "autotypenumbers": "strict",
          "coloraxis": {
           "colorbar": {
            "outlinewidth": 0,
            "ticks": ""
           }
          },
          "colorscale": {
           "diverging": [
            [
             0,
             "#8e0152"
            ],
            [
             0.1,
             "#c51b7d"
            ],
            [
             0.2,
             "#de77ae"
            ],
            [
             0.3,
             "#f1b6da"
            ],
            [
             0.4,
             "#fde0ef"
            ],
            [
             0.5,
             "#f7f7f7"
            ],
            [
             0.6,
             "#e6f5d0"
            ],
            [
             0.7,
             "#b8e186"
            ],
            [
             0.8,
             "#7fbc41"
            ],
            [
             0.9,
             "#4d9221"
            ],
            [
             1,
             "#276419"
            ]
           ],
           "sequential": [
            [
             0,
             "#0d0887"
            ],
            [
             0.1111111111111111,
             "#46039f"
            ],
            [
             0.2222222222222222,
             "#7201a8"
            ],
            [
             0.3333333333333333,
             "#9c179e"
            ],
            [
             0.4444444444444444,
             "#bd3786"
            ],
            [
             0.5555555555555556,
             "#d8576b"
            ],
            [
             0.6666666666666666,
             "#ed7953"
            ],
            [
             0.7777777777777778,
             "#fb9f3a"
            ],
            [
             0.8888888888888888,
             "#fdca26"
            ],
            [
             1,
             "#f0f921"
            ]
           ],
           "sequentialminus": [
            [
             0,
             "#0d0887"
            ],
            [
             0.1111111111111111,
             "#46039f"
            ],
            [
             0.2222222222222222,
             "#7201a8"
            ],
            [
             0.3333333333333333,
             "#9c179e"
            ],
            [
             0.4444444444444444,
             "#bd3786"
            ],
            [
             0.5555555555555556,
             "#d8576b"
            ],
            [
             0.6666666666666666,
             "#ed7953"
            ],
            [
             0.7777777777777778,
             "#fb9f3a"
            ],
            [
             0.8888888888888888,
             "#fdca26"
            ],
            [
             1,
             "#f0f921"
            ]
           ]
          },
          "colorway": [
           "#636efa",
           "#EF553B",
           "#00cc96",
           "#ab63fa",
           "#FFA15A",
           "#19d3f3",
           "#FF6692",
           "#B6E880",
           "#FF97FF",
           "#FECB52"
          ],
          "font": {
           "color": "#2a3f5f"
          },
          "geo": {
           "bgcolor": "white",
           "lakecolor": "white",
           "landcolor": "#E5ECF6",
           "showlakes": true,
           "showland": true,
           "subunitcolor": "white"
          },
          "hoverlabel": {
           "align": "left"
          },
          "hovermode": "closest",
          "mapbox": {
           "style": "light"
          },
          "paper_bgcolor": "white",
          "plot_bgcolor": "#E5ECF6",
          "polar": {
           "angularaxis": {
            "gridcolor": "white",
            "linecolor": "white",
            "ticks": ""
           },
           "bgcolor": "#E5ECF6",
           "radialaxis": {
            "gridcolor": "white",
            "linecolor": "white",
            "ticks": ""
           }
          },
          "scene": {
           "xaxis": {
            "backgroundcolor": "#E5ECF6",
            "gridcolor": "white",
            "gridwidth": 2,
            "linecolor": "white",
            "showbackground": true,
            "ticks": "",
            "zerolinecolor": "white"
           },
           "yaxis": {
            "backgroundcolor": "#E5ECF6",
            "gridcolor": "white",
            "gridwidth": 2,
            "linecolor": "white",
            "showbackground": true,
            "ticks": "",
            "zerolinecolor": "white"
           },
           "zaxis": {
            "backgroundcolor": "#E5ECF6",
            "gridcolor": "white",
            "gridwidth": 2,
            "linecolor": "white",
            "showbackground": true,
            "ticks": "",
            "zerolinecolor": "white"
           }
          },
          "shapedefaults": {
           "line": {
            "color": "#2a3f5f"
           }
          },
          "ternary": {
           "aaxis": {
            "gridcolor": "white",
            "linecolor": "white",
            "ticks": ""
           },
           "baxis": {
            "gridcolor": "white",
            "linecolor": "white",
            "ticks": ""
           },
           "bgcolor": "#E5ECF6",
           "caxis": {
            "gridcolor": "white",
            "linecolor": "white",
            "ticks": ""
           }
          },
          "title": {
           "x": 0.05
          },
          "xaxis": {
           "automargin": true,
           "gridcolor": "white",
           "linecolor": "white",
           "ticks": "",
           "title": {
            "standoff": 15
           },
           "zerolinecolor": "white",
           "zerolinewidth": 2
          },
          "yaxis": {
           "automargin": true,
           "gridcolor": "white",
           "linecolor": "white",
           "ticks": "",
           "title": {
            "standoff": 15
           },
           "zerolinecolor": "white",
           "zerolinewidth": 2
          }
         }
        },
        "xaxis": {
         "anchor": "y",
         "domain": [
          0,
          1
         ],
         "title": {
          "text": "x"
         }
        },
        "yaxis": {
         "anchor": "x",
         "domain": [
          0,
          1
         ],
         "title": {
          "text": "y"
         }
        }
       }
      }
     },
     "metadata": {},
     "output_type": "display_data"
    }
   ],
   "source": [
    "px.line(x=t, y=nl_solution.y[2])"
   ]
  },
  {
   "cell_type": "code",
   "execution_count": null,
   "id": "1e99cfff",
   "metadata": {},
   "outputs": [],
   "source": []
  }
 ],
 "metadata": {
  "kernelspec": {
   "display_name": "Python 3 (ipykernel)",
   "language": "python",
   "name": "python3"
  },
  "language_info": {
   "codemirror_mode": {
    "name": "ipython",
    "version": 3
   },
   "file_extension": ".py",
   "mimetype": "text/x-python",
   "name": "python",
   "nbconvert_exporter": "python",
   "pygments_lexer": "ipython3",
   "version": "3.10.11"
  }
 },
 "nbformat": 4,
 "nbformat_minor": 5
}
