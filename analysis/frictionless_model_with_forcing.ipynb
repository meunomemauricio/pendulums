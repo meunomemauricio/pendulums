{
 "cells": [
  {
   "attachments": {},
   "cell_type": "markdown",
   "metadata": {},
   "source": [
    "# Frictionless Pendulum on a Cart (Forcing)"
   ]
  },
  {
   "attachments": {},
   "cell_type": "markdown",
   "metadata": {},
   "source": [
    "## Imports & Symbols"
   ]
  },
  {
   "cell_type": "code",
   "execution_count": 1,
   "metadata": {},
   "outputs": [],
   "source": [
    "import control\n",
    "import matplotlib.pyplot as plt\n",
    "import numpy as np\n",
    "import scipy\n",
    "import sympy as sp\n",
    "\n",
    "np.set_printoptions(precision=4)\n",
    "plt.rcParams[\"figure.figsize\"] = [15, 8]"
   ]
  },
  {
   "cell_type": "code",
   "execution_count": 2,
   "metadata": {},
   "outputs": [],
   "source": [
    "t, g = sp.symbols(\"t g\")\n",
    "l, m, M = sp.symbols(\"l m M\")\n",
    "\n",
    "theta = sp.Function(\"theta\")\n",
    "u = sp.Function(\"u\")\n",
    "x = sp.Function(\"x\")"
   ]
  },
  {
   "attachments": {},
   "cell_type": "markdown",
   "metadata": {},
   "source": [
    "# System Modeling"
   ]
  },
  {
   "cell_type": "code",
   "execution_count": 3,
   "metadata": {},
   "outputs": [],
   "source": [
    "x_p = x(t) + l * sp.sin(theta(t))\n",
    "y_p = -l * sp.cos(theta(t))\n",
    "\n",
    "x_p_dot = x_p.diff(t)\n",
    "y_p_dot = y_p.diff(t)\n",
    "\n",
    "V = -m * g * l * sp.cos(theta(t))\n",
    "T = sp.Rational(1, 2) * M * (x(t).diff(t) ** 2) + sp.Rational(1, 2) * m * (\n",
    "    x_p_dot**2 + y_p_dot**2\n",
    ")\n",
    "\n",
    "L = T - V\n",
    "\n",
    "x_motion_eq, theta_motion_eq = sp.euler_equations(L, [x(t), theta(t)], t)"
   ]
  },
  {
   "cell_type": "code",
   "execution_count": 4,
   "metadata": {},
   "outputs": [
    {
     "data": {
      "text/latex": [
       "$\\displaystyle - M \\frac{d^{2}}{d t^{2}} x{\\left(t \\right)} - m \\left(- l \\sin{\\left(\\theta{\\left(t \\right)} \\right)} \\left(\\frac{d}{d t} \\theta{\\left(t \\right)}\\right)^{2} + l \\cos{\\left(\\theta{\\left(t \\right)} \\right)} \\frac{d^{2}}{d t^{2}} \\theta{\\left(t \\right)} + \\frac{d^{2}}{d t^{2}} x{\\left(t \\right)}\\right) = u{\\left(t \\right)}$"
      ],
      "text/plain": [
       "Eq(-M*Derivative(x(t), (t, 2)) - m*(-l*sin(theta(t))*Derivative(theta(t), t)**2 + l*cos(theta(t))*Derivative(theta(t), (t, 2)) + Derivative(x(t), (t, 2))), u(t))"
      ]
     },
     "execution_count": 4,
     "metadata": {},
     "output_type": "execute_result"
    }
   ],
   "source": [
    "x_motion_eq = sp.Eq(x_motion_eq.lhs, u(t))\n",
    "x_motion_eq"
   ]
  },
  {
   "cell_type": "code",
   "execution_count": 5,
   "metadata": {},
   "outputs": [
    {
     "data": {
      "text/latex": [
       "$\\displaystyle l m \\left(g \\sin{\\left(\\theta{\\left(t \\right)} \\right)} + l \\frac{d^{2}}{d t^{2}} \\theta{\\left(t \\right)} + \\cos{\\left(\\theta{\\left(t \\right)} \\right)} \\frac{d^{2}}{d t^{2}} x{\\left(t \\right)}\\right) = 0$"
      ],
      "text/plain": [
       "Eq(l*m*(g*sin(theta(t)) + l*Derivative(theta(t), (t, 2)) + cos(theta(t))*Derivative(x(t), (t, 2))), 0)"
      ]
     },
     "execution_count": 5,
     "metadata": {},
     "output_type": "execute_result"
    }
   ],
   "source": [
    "theta_motion_eq.simplify()"
   ]
  },
  {
   "cell_type": "code",
   "execution_count": 6,
   "metadata": {},
   "outputs": [
    {
     "data": {
      "text/latex": [
       "$\\displaystyle \\frac{\\frac{g m \\sin{\\left(2 \\theta{\\left(t \\right)} \\right)}}{2} + l m \\sin{\\left(\\theta{\\left(t \\right)} \\right)} \\left(\\frac{d}{d t} \\theta{\\left(t \\right)}\\right)^{2} - u{\\left(t \\right)}}{M + m \\sin^{2}{\\left(\\theta{\\left(t \\right)} \\right)}}$"
      ],
      "text/plain": [
       "(g*m*sin(2*theta(t))/2 + l*m*sin(theta(t))*Derivative(theta(t), t)**2 - u(t))/(M + m*sin(theta(t))**2)"
      ]
     },
     "execution_count": 6,
     "metadata": {},
     "output_type": "execute_result"
    }
   ],
   "source": [
    "sols = sp.solve(\n",
    "    [x_motion_eq, theta_motion_eq], [x(t).diff(t, 2), theta(t).diff(t, 2)]\n",
    ")\n",
    "\n",
    "x_ddot = sols[x(t).diff(t, 2)].simplify()\n",
    "x_ddot"
   ]
  },
  {
   "cell_type": "code",
   "execution_count": 7,
   "metadata": {},
   "outputs": [
    {
     "data": {
      "text/latex": [
       "$\\displaystyle \\frac{- M g \\sin{\\left(\\theta{\\left(t \\right)} \\right)} - g m \\sin{\\left(\\theta{\\left(t \\right)} \\right)} - \\frac{l m \\sin{\\left(2 \\theta{\\left(t \\right)} \\right)} \\left(\\frac{d}{d t} \\theta{\\left(t \\right)}\\right)^{2}}{2} + u{\\left(t \\right)} \\cos{\\left(\\theta{\\left(t \\right)} \\right)}}{l \\left(M + m \\sin^{2}{\\left(\\theta{\\left(t \\right)} \\right)}\\right)}$"
      ],
      "text/plain": [
       "(-M*g*sin(theta(t)) - g*m*sin(theta(t)) - l*m*sin(2*theta(t))*Derivative(theta(t), t)**2/2 + u(t)*cos(theta(t)))/(l*(M + m*sin(theta(t))**2))"
      ]
     },
     "execution_count": 7,
     "metadata": {},
     "output_type": "execute_result"
    }
   ],
   "source": [
    "theta_ddot = sols[theta(t).diff(t, 2)].simplify()\n",
    "theta_ddot"
   ]
  },
  {
   "cell_type": "code",
   "execution_count": 8,
   "metadata": {},
   "outputs": [
    {
     "data": {
      "text/latex": [
       "$\\displaystyle \\frac{\\frac{g m \\sin{\\left(2 \\theta{\\left(t \\right)} \\right)}}{2} + l m \\sin{\\left(\\theta{\\left(t \\right)} \\right)} \\left(\\frac{d}{d t} \\theta{\\left(t \\right)}\\right)^{2}}{M + m \\sin^{2}{\\left(\\theta{\\left(t \\right)} \\right)}}$"
      ],
      "text/plain": [
       "(g*m*sin(2*theta(t))/2 + l*m*sin(theta(t))*Derivative(theta(t), t)**2)/(M + m*sin(theta(t))**2)"
      ]
     },
     "execution_count": 8,
     "metadata": {},
     "output_type": "execute_result"
    }
   ],
   "source": [
    "x_ddot_sys = x_ddot.subs(u(t), 0)\n",
    "x_ddot_sys"
   ]
  },
  {
   "cell_type": "code",
   "execution_count": 9,
   "metadata": {},
   "outputs": [
    {
     "data": {
      "text/latex": [
       "$\\displaystyle \\frac{- M g \\sin{\\left(\\theta{\\left(t \\right)} \\right)} - g m \\sin{\\left(\\theta{\\left(t \\right)} \\right)} - \\frac{l m \\sin{\\left(2 \\theta{\\left(t \\right)} \\right)} \\left(\\frac{d}{d t} \\theta{\\left(t \\right)}\\right)^{2}}{2}}{l \\left(M + m \\sin^{2}{\\left(\\theta{\\left(t \\right)} \\right)}\\right)}$"
      ],
      "text/plain": [
       "(-M*g*sin(theta(t)) - g*m*sin(theta(t)) - l*m*sin(2*theta(t))*Derivative(theta(t), t)**2/2)/(l*(M + m*sin(theta(t))**2))"
      ]
     },
     "execution_count": 9,
     "metadata": {},
     "output_type": "execute_result"
    }
   ],
   "source": [
    "theta_ddot_sys = theta_ddot.subs(u(t), 0)\n",
    "theta_ddot_sys"
   ]
  },
  {
   "cell_type": "code",
   "execution_count": 10,
   "metadata": {},
   "outputs": [
    {
     "data": {
      "text/latex": [
       "$\\displaystyle \\left[\\begin{matrix}\\frac{d}{d t} x{\\left(t \\right)}\\\\\\frac{\\frac{g m \\sin{\\left(2 \\theta{\\left(t \\right)} \\right)}}{2} + l m \\sin{\\left(\\theta{\\left(t \\right)} \\right)} \\left(\\frac{d}{d t} \\theta{\\left(t \\right)}\\right)^{2}}{M + m \\sin^{2}{\\left(\\theta{\\left(t \\right)} \\right)}}\\\\\\frac{d}{d t} \\theta{\\left(t \\right)}\\\\\\frac{- M g \\sin{\\left(\\theta{\\left(t \\right)} \\right)} - g m \\sin{\\left(\\theta{\\left(t \\right)} \\right)} - \\frac{l m \\sin{\\left(2 \\theta{\\left(t \\right)} \\right)} \\left(\\frac{d}{d t} \\theta{\\left(t \\right)}\\right)^{2}}{2}}{l \\left(M + m \\sin^{2}{\\left(\\theta{\\left(t \\right)} \\right)}\\right)}\\end{matrix}\\right]$"
      ],
      "text/plain": [
       "Matrix([\n",
       "[                                                                                                     Derivative(x(t), t)],\n",
       "[                         (g*m*sin(2*theta(t))/2 + l*m*sin(theta(t))*Derivative(theta(t), t)**2)/(M + m*sin(theta(t))**2)],\n",
       "[                                                                                                 Derivative(theta(t), t)],\n",
       "[(-M*g*sin(theta(t)) - g*m*sin(theta(t)) - l*m*sin(2*theta(t))*Derivative(theta(t), t)**2/2)/(l*(M + m*sin(theta(t))**2))]])"
      ]
     },
     "execution_count": 10,
     "metadata": {},
     "output_type": "execute_result"
    }
   ],
   "source": [
    "A_nl = sp.Matrix([x(t).diff(t), x_ddot_sys, theta(t).diff(t), theta_ddot_sys])\n",
    "A_nl"
   ]
  },
  {
   "cell_type": "code",
   "execution_count": 11,
   "metadata": {},
   "outputs": [
    {
     "data": {
      "text/latex": [
       "$\\displaystyle - \\frac{u{\\left(t \\right)}}{M + m \\sin^{2}{\\left(\\theta{\\left(t \\right)} \\right)}}$"
      ],
      "text/plain": [
       "-u(t)/(M + m*sin(theta(t))**2)"
      ]
     },
     "execution_count": 11,
     "metadata": {},
     "output_type": "execute_result"
    }
   ],
   "source": [
    "x_ddot_u = -u(t) / (M + (m * sp.sin(theta(t)) ** 2))\n",
    "x_ddot_u"
   ]
  },
  {
   "cell_type": "code",
   "execution_count": 12,
   "metadata": {},
   "outputs": [
    {
     "data": {
      "text/latex": [
       "$\\displaystyle \\frac{u{\\left(t \\right)} \\cos{\\left(\\theta{\\left(t \\right)} \\right)}}{l \\left(M + m \\sin^{2}{\\left(\\theta{\\left(t \\right)} \\right)}\\right)}$"
      ],
      "text/plain": [
       "u(t)*cos(theta(t))/(l*(M + m*sin(theta(t))**2))"
      ]
     },
     "execution_count": 12,
     "metadata": {},
     "output_type": "execute_result"
    }
   ],
   "source": [
    "theta_ddot_u = (u(t) * sp.cos(theta(t))) / (\n",
    "    l * (M + (m * sp.sin(theta(t)) ** 2))\n",
    ")\n",
    "theta_ddot_u"
   ]
  },
  {
   "cell_type": "code",
   "execution_count": 13,
   "metadata": {},
   "outputs": [
    {
     "data": {
      "text/latex": [
       "$\\displaystyle \\left[\\begin{matrix}0\\\\- \\frac{u{\\left(t \\right)}}{M + m \\sin^{2}{\\left(\\theta{\\left(t \\right)} \\right)}}\\\\0\\\\\\frac{u{\\left(t \\right)} \\cos{\\left(\\theta{\\left(t \\right)} \\right)}}{l \\left(M + m \\sin^{2}{\\left(\\theta{\\left(t \\right)} \\right)}\\right)}\\end{matrix}\\right]$"
      ],
      "text/plain": [
       "Matrix([\n",
       "[                                              0],\n",
       "[                 -u(t)/(M + m*sin(theta(t))**2)],\n",
       "[                                              0],\n",
       "[u(t)*cos(theta(t))/(l*(M + m*sin(theta(t))**2))]])"
      ]
     },
     "execution_count": 13,
     "metadata": {},
     "output_type": "execute_result"
    }
   ],
   "source": [
    "B_nl = sp.Matrix([0, x_ddot_u, 0, theta_ddot_u])\n",
    "B_nl"
   ]
  },
  {
   "attachments": {},
   "cell_type": "markdown",
   "metadata": {},
   "source": [
    "# Linearization"
   ]
  },
  {
   "cell_type": "code",
   "execution_count": 14,
   "metadata": {},
   "outputs": [
    {
     "data": {
      "text/latex": [
       "$\\displaystyle \\left[\\begin{matrix}0 & 1 & 0 & 0\\\\0 & 0 & - \\frac{2 m \\left(\\frac{g m \\sin{\\left(2 \\theta{\\left(t \\right)} \\right)}}{2} + l m \\sin{\\left(\\theta{\\left(t \\right)} \\right)} \\left(\\frac{d}{d t} \\theta{\\left(t \\right)}\\right)^{2}\\right) \\sin{\\left(\\theta{\\left(t \\right)} \\right)} \\cos{\\left(\\theta{\\left(t \\right)} \\right)}}{\\left(M + m \\sin^{2}{\\left(\\theta{\\left(t \\right)} \\right)}\\right)^{2}} + \\frac{g m \\cos{\\left(2 \\theta{\\left(t \\right)} \\right)} + l m \\cos{\\left(\\theta{\\left(t \\right)} \\right)} \\left(\\frac{d}{d t} \\theta{\\left(t \\right)}\\right)^{2}}{M + m \\sin^{2}{\\left(\\theta{\\left(t \\right)} \\right)}} & \\frac{2 l m \\sin{\\left(\\theta{\\left(t \\right)} \\right)} \\frac{d}{d t} \\theta{\\left(t \\right)}}{M + m \\sin^{2}{\\left(\\theta{\\left(t \\right)} \\right)}}\\\\0 & 0 & 0 & 1\\\\0 & 0 & - \\frac{2 m \\left(- M g \\sin{\\left(\\theta{\\left(t \\right)} \\right)} - g m \\sin{\\left(\\theta{\\left(t \\right)} \\right)} - \\frac{l m \\sin{\\left(2 \\theta{\\left(t \\right)} \\right)} \\left(\\frac{d}{d t} \\theta{\\left(t \\right)}\\right)^{2}}{2}\\right) \\sin{\\left(\\theta{\\left(t \\right)} \\right)} \\cos{\\left(\\theta{\\left(t \\right)} \\right)}}{l \\left(M + m \\sin^{2}{\\left(\\theta{\\left(t \\right)} \\right)}\\right)^{2}} + \\frac{- M g \\cos{\\left(\\theta{\\left(t \\right)} \\right)} - g m \\cos{\\left(\\theta{\\left(t \\right)} \\right)} - l m \\cos{\\left(2 \\theta{\\left(t \\right)} \\right)} \\left(\\frac{d}{d t} \\theta{\\left(t \\right)}\\right)^{2}}{l \\left(M + m \\sin^{2}{\\left(\\theta{\\left(t \\right)} \\right)}\\right)} & - \\frac{m \\sin{\\left(2 \\theta{\\left(t \\right)} \\right)} \\frac{d}{d t} \\theta{\\left(t \\right)}}{M + m \\sin^{2}{\\left(\\theta{\\left(t \\right)} \\right)}}\\end{matrix}\\right]$"
      ],
      "text/plain": [
       "Matrix([\n",
       "[0, 1,                                                                                                                                                                                                                                                                                     0,                                                                    0],\n",
       "[0, 0,                                                   -2*m*(g*m*sin(2*theta(t))/2 + l*m*sin(theta(t))*Derivative(theta(t), t)**2)*sin(theta(t))*cos(theta(t))/(M + m*sin(theta(t))**2)**2 + (g*m*cos(2*theta(t)) + l*m*cos(theta(t))*Derivative(theta(t), t)**2)/(M + m*sin(theta(t))**2), 2*l*m*sin(theta(t))*Derivative(theta(t), t)/(M + m*sin(theta(t))**2)],\n",
       "[0, 0,                                                                                                                                                                                                                                                                                     0,                                                                    1],\n",
       "[0, 0, -2*m*(-M*g*sin(theta(t)) - g*m*sin(theta(t)) - l*m*sin(2*theta(t))*Derivative(theta(t), t)**2/2)*sin(theta(t))*cos(theta(t))/(l*(M + m*sin(theta(t))**2)**2) + (-M*g*cos(theta(t)) - g*m*cos(theta(t)) - l*m*cos(2*theta(t))*Derivative(theta(t), t)**2)/(l*(M + m*sin(theta(t))**2)),  -m*sin(2*theta(t))*Derivative(theta(t), t)/(M + m*sin(theta(t))**2)]])"
      ]
     },
     "execution_count": 14,
     "metadata": {},
     "output_type": "execute_result"
    }
   ],
   "source": [
    "sys_vars = [x(t), x(t).diff(t), theta(t), theta(t).diff(t)]\n",
    "A_jacobian = A_nl.jacobian(sys_vars)\n",
    "A_jacobian"
   ]
  },
  {
   "cell_type": "code",
   "execution_count": 15,
   "metadata": {},
   "outputs": [
    {
     "data": {
      "text/latex": [
       "$\\displaystyle \\left[\\begin{matrix}0\\\\- \\frac{1}{M + m \\sin^{2}{\\left(\\theta{\\left(t \\right)} \\right)}}\\\\0\\\\\\frac{\\cos{\\left(\\theta{\\left(t \\right)} \\right)}}{l \\left(M + m \\sin^{2}{\\left(\\theta{\\left(t \\right)} \\right)}\\right)}\\end{matrix}\\right]$"
      ],
      "text/plain": [
       "Matrix([\n",
       "[                                         0],\n",
       "[               -1/(M + m*sin(theta(t))**2)],\n",
       "[                                         0],\n",
       "[cos(theta(t))/(l*(M + m*sin(theta(t))**2))]])"
      ]
     },
     "execution_count": 15,
     "metadata": {},
     "output_type": "execute_result"
    }
   ],
   "source": [
    "B_jacobian = B_nl.jacobian([u(t)])\n",
    "B_jacobian"
   ]
  },
  {
   "attachments": {},
   "cell_type": "markdown",
   "metadata": {},
   "source": [
    "## Fixed Points"
   ]
  },
  {
   "cell_type": "code",
   "execution_count": 16,
   "metadata": {},
   "outputs": [
    {
     "data": {
      "text/latex": [
       "$\\displaystyle \\left[\\begin{matrix}0 & 1 & 0 & 0\\\\0 & 0 & \\frac{g m}{M} & 0\\\\0 & 0 & 0 & 1\\\\0 & 0 & \\frac{M g + g m}{M l} & 0\\end{matrix}\\right]$"
      ],
      "text/plain": [
       "Matrix([\n",
       "[0, 1,                 0, 0],\n",
       "[0, 0,             g*m/M, 0],\n",
       "[0, 0,                 0, 1],\n",
       "[0, 0, (M*g + g*m)/(M*l), 0]])"
      ]
     },
     "execution_count": 16,
     "metadata": {},
     "output_type": "execute_result"
    }
   ],
   "source": [
    "fixed_point = {x(t): 0, x(t).diff(t): 0, theta(t): sp.pi, theta(t).diff(t): 0}\n",
    "Asym = A_jacobian.subs(fixed_point)\n",
    "Asym"
   ]
  },
  {
   "cell_type": "code",
   "execution_count": 17,
   "metadata": {},
   "outputs": [
    {
     "data": {
      "text/latex": [
       "$\\displaystyle \\left[\\begin{matrix}0\\\\- \\frac{1}{M}\\\\0\\\\- \\frac{1}{M l}\\end{matrix}\\right]$"
      ],
      "text/plain": [
       "Matrix([\n",
       "[       0],\n",
       "[    -1/M],\n",
       "[       0],\n",
       "[-1/(M*l)]])"
      ]
     },
     "execution_count": 17,
     "metadata": {},
     "output_type": "execute_result"
    }
   ],
   "source": [
    "fixed_point = {x(t): 0, x(t).diff(t): 0, theta(t): sp.pi, theta(t).diff(t): 0}\n",
    "Bsym = B_jacobian.subs(fixed_point)\n",
    "Bsym"
   ]
  },
  {
   "cell_type": "code",
   "execution_count": null,
   "metadata": {},
   "outputs": [],
   "source": []
  },
  {
   "attachments": {},
   "cell_type": "markdown",
   "metadata": {},
   "source": [
    "# System Parameters"
   ]
  },
  {
   "cell_type": "code",
   "execution_count": 18,
   "metadata": {},
   "outputs": [
    {
     "data": {
      "text/plain": [
       "array([[  0.    ,   1.    ,   0.    ,   0.    ],\n",
       "       [  0.    ,   0.    , 245.175 ,   0.    ],\n",
       "       [  0.    ,   0.    ,   0.    ,   1.    ],\n",
       "       [  0.    ,   0.    ,  33.5073,   0.    ]])"
      ]
     },
     "execution_count": 18,
     "metadata": {},
     "output_type": "execute_result"
    }
   ],
   "source": [
    "A = sp.lambdify([m, M, l, g], Asym)(0.005, 0.2, 300, 9807)\n",
    "A"
   ]
  },
  {
   "cell_type": "code",
   "execution_count": 19,
   "metadata": {},
   "outputs": [
    {
     "data": {
      "text/plain": [
       "array([[ 0.    ],\n",
       "       [-5.    ],\n",
       "       [ 0.    ],\n",
       "       [-0.0167]])"
      ]
     },
     "execution_count": 19,
     "metadata": {},
     "output_type": "execute_result"
    }
   ],
   "source": [
    "B = sp.lambdify([m, M, l, g], Bsym)(0.005, 0.2, 300, 9807)\n",
    "B"
   ]
  },
  {
   "attachments": {},
   "cell_type": "markdown",
   "metadata": {},
   "source": [
    "# Controlability Analysis"
   ]
  },
  {
   "attachments": {},
   "cell_type": "markdown",
   "metadata": {},
   "source": [
    "# Controller Design (LQR)"
   ]
  },
  {
   "cell_type": "code",
   "execution_count": 20,
   "metadata": {},
   "outputs": [
    {
     "name": "stdout",
     "output_type": "stream",
     "text": [
      "[[ 1.0000e+02  1.3518e+02 -4.0771e+05 -7.1300e+04]]\n",
      "\n",
      "[[ 1.3518e+00  4.1368e-01 -7.1300e+02 -1.2470e+02]\n",
      " [ 4.1368e-01  4.8651e-01 -8.3913e+02 -1.4677e+02]\n",
      " [-7.1300e+02 -8.3913e+02  1.4533e+06  2.5419e+05]\n",
      " [-1.2470e+02 -1.4677e+02  2.5419e+05  4.4457e+04]]\n",
      "\n",
      "[-500.0034+0.j       -5.7175+0.0095j   -5.7175-0.0095j   -1.    +0.j    ]\n"
     ]
    }
   ],
   "source": [
    "Q = np.eye(4)\n",
    "R = 0.0001\n",
    "\n",
    "K, S, E = control.lqr(A, B, Q, R)\n",
    "print(K, S, E, sep=\"\\n\\n\")"
   ]
  },
  {
   "cell_type": "code",
   "execution_count": 21,
   "metadata": {},
   "outputs": [],
   "source": [
    "np.savetxt(\"../pendulum/cart/lqr_params.csv\", K)"
   ]
  }
 ],
 "metadata": {
  "kernelspec": {
   "display_name": ".venv",
   "language": "python",
   "name": "python3"
  },
  "language_info": {
   "codemirror_mode": {
    "name": "ipython",
    "version": 3
   },
   "file_extension": ".py",
   "mimetype": "text/x-python",
   "name": "python",
   "nbconvert_exporter": "python",
   "pygments_lexer": "ipython3",
   "version": "3.10.11"
  },
  "orig_nbformat": 4
 },
 "nbformat": 4,
 "nbformat_minor": 2
}
