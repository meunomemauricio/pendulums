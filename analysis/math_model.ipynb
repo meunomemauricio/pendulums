{
 "cells": [
  {
   "attachments": {},
   "cell_type": "markdown",
   "id": "2b0ce11d",
   "metadata": {},
   "source": [
    "# Frictionless Pendulum on a Cart"
   ]
  },
  {
   "attachments": {},
   "cell_type": "markdown",
   "id": "d47b6e57",
   "metadata": {},
   "source": [
    "## Imports"
   ]
  },
  {
   "cell_type": "code",
   "execution_count": null,
   "id": "b0a0ead1",
   "metadata": {},
   "outputs": [],
   "source": [
    "import numpy\n",
    "import sympy"
   ]
  }
 ],
 "metadata": {
  "kernelspec": {
   "display_name": "Python 3 (ipykernel)",
   "language": "python",
   "name": "python3"
  },
  "language_info": {
   "codemirror_mode": {
    "name": "ipython",
    "version": 3
   },
   "file_extension": ".py",
   "mimetype": "text/x-python",
   "name": "python",
   "nbconvert_exporter": "python",
   "pygments_lexer": "ipython3",
   "version": "3.10.11"
  }
 },
 "nbformat": 4,
 "nbformat_minor": 5
}
