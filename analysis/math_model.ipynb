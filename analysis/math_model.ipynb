{
 "cells": [
  {
   "attachments": {},
   "cell_type": "markdown",
   "id": "2b0ce11d",
   "metadata": {},
   "source": [
    "# Frictionless Pendulum on a Cart"
   ]
  },
  {
   "attachments": {},
   "cell_type": "markdown",
   "id": "d47b6e57",
   "metadata": {},
   "source": [
    "## Imports"
   ]
  },
  {
   "cell_type": "code",
   "execution_count": 1,
   "id": "b0a0ead1",
   "metadata": {},
   "outputs": [],
   "source": [
    "import numpy as np\n",
    "import sympy as sp"
   ]
  },
  {
   "attachments": {},
   "cell_type": "markdown",
   "id": "d5a42e66",
   "metadata": {},
   "source": [
    "## Symbols"
   ]
  },
  {
   "cell_type": "code",
   "execution_count": 34,
   "id": "34650d3c",
   "metadata": {},
   "outputs": [],
   "source": [
    "t, g = sp.symbols(\"t g\")\n",
    "l, m, M = sp.symbols(\"l m M\")\n",
    "\n",
    "theta = sp.Function(\"theta\")\n",
    "x = sp.Function(\"x\")"
   ]
  },
  {
   "attachments": {},
   "cell_type": "markdown",
   "id": "d3739b45",
   "metadata": {},
   "source": [
    "## Kinematics"
   ]
  },
  {
   "cell_type": "code",
   "execution_count": 27,
   "id": "9121249d",
   "metadata": {},
   "outputs": [
    {
     "data": {
      "text/latex": [
       "$\\displaystyle l \\sin{\\left(\\theta{\\left(t \\right)} \\right)} + x{\\left(t \\right)}$"
      ],
      "text/plain": [
       "l*sin(theta(t)) + x(t)"
      ]
     },
     "execution_count": 27,
     "metadata": {},
     "output_type": "execute_result"
    }
   ],
   "source": [
    "x_p = x(t) + l * sp.sin(theta(t))\n",
    "x_p"
   ]
  },
  {
   "cell_type": "code",
   "execution_count": 31,
   "id": "e5e3ed3c",
   "metadata": {},
   "outputs": [
    {
     "data": {
      "text/latex": [
       "$\\displaystyle - l \\cos{\\left(\\theta{\\left(t \\right)} \\right)}$"
      ],
      "text/plain": [
       "-l*cos(theta(t))"
      ]
     },
     "execution_count": 31,
     "metadata": {},
     "output_type": "execute_result"
    }
   ],
   "source": [
    "y_p = -l * sp.cos(theta(t))\n",
    "y_p"
   ]
  },
  {
   "cell_type": "code",
   "execution_count": 30,
   "id": "9403157f",
   "metadata": {},
   "outputs": [
    {
     "data": {
      "text/latex": [
       "$\\displaystyle l \\cos{\\left(\\theta{\\left(t \\right)} \\right)} \\frac{d}{d t} \\theta{\\left(t \\right)} + \\frac{d}{d t} x{\\left(t \\right)}$"
      ],
      "text/plain": [
       "l*cos(theta(t))*Derivative(theta(t), t) + Derivative(x(t), t)"
      ]
     },
     "execution_count": 30,
     "metadata": {},
     "output_type": "execute_result"
    }
   ],
   "source": [
    "x_p_dot = x_p.diff(t)\n",
    "x_p_dot"
   ]
  },
  {
   "cell_type": "code",
   "execution_count": 33,
   "id": "24f1d333",
   "metadata": {},
   "outputs": [
    {
     "data": {
      "text/latex": [
       "$\\displaystyle l \\sin{\\left(\\theta{\\left(t \\right)} \\right)} \\frac{d}{d t} \\theta{\\left(t \\right)}$"
      ],
      "text/plain": [
       "l*sin(theta(t))*Derivative(theta(t), t)"
      ]
     },
     "execution_count": 33,
     "metadata": {},
     "output_type": "execute_result"
    }
   ],
   "source": [
    "y_p_dot = y_p.diff(t)\n",
    "y_p_dot"
   ]
  },
  {
   "attachments": {},
   "cell_type": "markdown",
   "id": "8539b4b5",
   "metadata": {},
   "source": [
    "## Potential Energy\n",
    "\n",
    "There's only the gravitational potential energy, which acts in the `y` direction.\n",
    "\n",
    "$$\n",
    "V = m \\cdot g \\cdot y = - m \\cdot g \\cdot l \\cdot cos(\\theta)\n",
    "$$"
   ]
  },
  {
   "cell_type": "code",
   "execution_count": 38,
   "id": "1c4cee99",
   "metadata": {},
   "outputs": [
    {
     "data": {
      "text/latex": [
       "$\\displaystyle - g l m \\cos{\\left(\\theta{\\left(t \\right)} \\right)}$"
      ],
      "text/plain": [
       "-g*l*m*cos(theta(t))"
      ]
     },
     "execution_count": 38,
     "metadata": {},
     "output_type": "execute_result"
    }
   ],
   "source": [
    "V = - m * g * l * sp.cos(theta(t))\n",
    "V"
   ]
  },
  {
   "attachments": {},
   "cell_type": "markdown",
   "id": "4c80d503",
   "metadata": {},
   "source": [
    "## Kinectic Energy\n",
    "\n",
    "There are two Kinectic energies, one related to the Cart and one on the Pendulum mass.\n",
    "\n",
    "$$\n",
    "T = \\frac{1}{2} \\cdot M \\cdot \\dot{x}^2 + \\frac{1}{2} \\cdot m \\cdot (\\dot{x}_p^2 + \\dot{y}_p^2)\n",
    "$$"
   ]
  },
  {
   "attachments": {},
   "cell_type": "markdown",
   "id": "c1d03b58",
   "metadata": {},
   "source": []
  }
 ],
 "metadata": {
  "kernelspec": {
   "display_name": "Python 3 (ipykernel)",
   "language": "python",
   "name": "python3"
  },
  "language_info": {
   "codemirror_mode": {
    "name": "ipython",
    "version": 3
   },
   "file_extension": ".py",
   "mimetype": "text/x-python",
   "name": "python",
   "nbconvert_exporter": "python",
   "pygments_lexer": "ipython3",
   "version": "3.10.11"
  }
 },
 "nbformat": 4,
 "nbformat_minor": 5
}
